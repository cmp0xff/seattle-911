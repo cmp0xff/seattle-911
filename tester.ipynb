{
 "cells": [
  {
   "cell_type": "markdown",
   "id": "84309ab3-85fd-4a9b-ba2c-90778b3b9d64",
   "metadata": {},
   "source": [
    "# Machine Learning Assessment"
   ]
  },
  {
   "cell_type": "markdown",
   "id": "917cc457-0659-4bc7-a25c-a1b125cb4ced",
   "metadata": {},
   "source": [
    "## 1. Initialisation"
   ]
  },
  {
   "cell_type": "code",
   "execution_count": 1,
   "id": "2e75beaa-dc26-4748-b5ed-c7fc82ace656",
   "metadata": {},
   "outputs": [
    {
     "name": "stdout",
     "output_type": "stream",
     "text": [
      "Overwriting tester.py\n"
     ]
    }
   ],
   "source": [
    "%%writefile tester.py\n",
    "\n",
    "from time import process_time as timer\n",
    "\n",
    "import numpy as np\n",
    "import pandas as pd\n",
    "import matplotlib.pyplot as plt\n",
    "\n",
    "from sklearn.pipeline import Pipeline\n",
    "from sklearn.metrics import mean_squared_error\n",
    "\n",
    "import init\n",
    "import prep\n",
    "import model\n",
    "import train\n",
    "import main\n",
    "from importlib import reload\n",
    "\n",
    "def calls_te() :\n",
    "\n",
    "    reload(init)\n",
    "    \n",
    "    print('Testing calls parsing from given database')\n",
    "\n",
    "    tim = timer()\n",
    "    calls_df = init.init_calls()\n",
    "    print(calls_df.info())\n",
    "    print(calls_df.head(1))\n",
    "    # print(calls_df.tail(2))\n",
    "    # print(calls_df.iloc[calls_df.index.duplicated()])\n",
    "    \n",
    "    print('Testing calls parsing from given database successful in '+ str(timer() - tim) + ' s')\n"
   ]
  },
  {
   "cell_type": "code",
   "execution_count": 2,
   "id": "79e471f3-cfa5-424a-bf3b-c0ec201cd59c",
   "metadata": {},
   "outputs": [
    {
     "name": "stdout",
     "output_type": "stream",
     "text": [
      "Appending to tester.py\n"
     ]
    }
   ],
   "source": [
    "%%writefile -a tester.py\n",
    "\n",
    "def weather_te() :\n",
    "\n",
    "    reload(init)\n",
    "\n",
    "    print('Testing weather parsing from given database')\n",
    "    \n",
    "    tim = timer()\n",
    "    wtr_df = init.init_weather()\n",
    "    print(wtr_df.info())\n",
    "    print(wtr_df.head(1))\n",
    "    print(wtr_df.tail(1))\n",
    "    # print(wtr_df.iloc[wtr_df.index.duplicated(keep=False)])\n",
    "    \n",
    "    print('Testing weather parsing from given database successful in '+ str(timer() - tim) + ' s')\n"
   ]
  },
  {
   "cell_type": "code",
   "execution_count": 3,
   "id": "6ef83ff2-9db7-44bd-a2f6-6d211bdb9552",
   "metadata": {},
   "outputs": [
    {
     "name": "stdout",
     "output_type": "stream",
     "text": [
      "Appending to tester.py\n"
     ]
    }
   ],
   "source": [
    "%%writefile -a tester.py\n",
    "\n",
    "def init_te() :\n",
    "\n",
    "    reload(init)\n",
    "    \n",
    "    print('Testing database initialisation from given databases')\n",
    "\n",
    "    tim = timer()\n",
    "    x, y = init.init()\n",
    "    print(x.info())\n",
    "    print(x.head(1))\n",
    "    print(y.head(1))\n",
    "    # print(x.iloc[x.index.duplicated(keep=False)])\n",
    "    \n",
    "    print('Testing database initialisation from given databases successful in '+ str(timer() - tim) + ' s')\n"
   ]
  },
  {
   "cell_type": "markdown",
   "id": "2216523b-dba7-4c21-a515-f98386af2f38",
   "metadata": {},
   "source": [
    "## 2. Preprocessing"
   ]
  },
  {
   "cell_type": "code",
   "execution_count": 4,
   "id": "a8547d58-77a5-4a1a-a4ed-a59690a8f4c3",
   "metadata": {},
   "outputs": [
    {
     "name": "stdout",
     "output_type": "stream",
     "text": [
      "Appending to tester.py\n"
     ]
    }
   ],
   "source": [
    "%%writefile -a tester.py\n",
    "\n",
    "def fwe_te() :\n",
    "\n",
    "    reload(init)\n",
    "    reload(prep)\n",
    "\n",
    "    x, y = init.init()\n",
    "    for tr_ind, te_ind in prep.fwd_splitter().split(x) :\n",
    "        print(x.iloc[tr_ind].info(), y.iloc[te_ind].head(2), len(y))\n"
   ]
  },
  {
   "cell_type": "code",
   "execution_count": 5,
   "id": "bb1b2baa-0ba8-49a5-8980-31aea9162bbb",
   "metadata": {},
   "outputs": [
    {
     "name": "stdout",
     "output_type": "stream",
     "text": [
      "Appending to tester.py\n"
     ]
    }
   ],
   "source": [
    "%%writefile -a tester.py\n",
    "\n",
    "def nai_te() :\n",
    "\n",
    "    reload(init)\n",
    "    reload(prep)\n",
    "\n",
    "    x, y = init.init()\n",
    "    tr_ind, e1_ind, e2_ind = prep.nai_splitter()\n",
    "\n",
    "    print(tr_ind, e1_ind, e2_ind)\n",
    "    print(x.iloc[tr_ind].info(), y.iloc[e1_ind].head(2), y.iloc[e2_ind].head(2),)\n"
   ]
  },
  {
   "cell_type": "markdown",
   "id": "d9b07ea8-e2fa-4741-a657-410f7697ecb2",
   "metadata": {},
   "source": [
    "## 3. Modelling"
   ]
  },
  {
   "cell_type": "code",
   "execution_count": 6,
   "id": "78ee0dd5-f94d-4381-b131-8be9158b2d76",
   "metadata": {},
   "outputs": [
    {
     "name": "stdout",
     "output_type": "stream",
     "text": [
      "Appending to tester.py\n"
     ]
    }
   ],
   "source": [
    "%%writefile -a tester.py\n",
    "\n",
    "def printer(x, y, te_ind, mod) :\n",
    "    print('Testing Gradient Boosting Regressor with .iloc[' + str(te_ind[0]) + ', ' + str(te_ind[-1]) + ']')\n",
    "\n",
    "    y_pd = mod.predict(x.iloc[te_ind])\n",
    "\n",
    "    print('Score: ' + str(mod.score(x.iloc[te_ind], y.iloc[te_ind])))\n",
    "    print('R^2: ' + str(np.sqrt(mean_squared_error(y.iloc[te_ind], y_pd))))\n",
    "\n",
    "    pd.DataFrame(data=y_pd, \n",
    "                 index=y.iloc[te_ind].index, \n",
    "                 columns=['prediction']).join(y.iloc[te_ind]).resample('W').sum().plot()\n",
    "    plt.title('Gradient Boosting Regressor with .iloc[' + str(te_ind[0]) + ':' + str(te_ind[-1]) + ']')\n",
    "    plt.show()"
   ]
  },
  {
   "cell_type": "code",
   "execution_count": 7,
   "id": "4c350447-f613-48c6-8e64-b43dc5c7c6a1",
   "metadata": {},
   "outputs": [
    {
     "name": "stdout",
     "output_type": "stream",
     "text": [
      "Appending to tester.py\n"
     ]
    }
   ],
   "source": [
    "%%writefile -a tester.py\n",
    "\n",
    "def model_fwd_te(n_spi=2) :\n",
    "\n",
    "    reload(init)\n",
    "    reload(prep)\n",
    "    reload(model)\n",
    "    reload(pred_te)\n",
    "\n",
    "    x, y = init.init()\n",
    "\n",
    "    mod = model.model_ppl()\n",
    "\n",
    "    print('Model parameters: ' + str(mod.get_params()))\n",
    "\n",
    "    for tr_ind, te_ind in prep.fwd_splitter(n_spi=n_spi).split(x) :\n",
    "        x_tr, y_tr = x.iloc[tr_ind], y.iloc[tr_ind]\n",
    "\n",
    "        print('Training Gradient Boosting Regressor with .iloc[' + str(tr_ind[0]) + ':' + str(tr_ind[-1]) + ']')\n",
    "        tim = timer()\n",
    "        mod.fit(x_tr, y_tr)\n",
    "        print('Training Gradient Boosting Regressor successful in ' + str(timer() - tim) + ' s')\n",
    "\n",
    "        pred_te.printer(x, y, te_ind, mod)\n",
    "\n",
    "    \n",
    "def model_nai_te() :\n",
    "\n",
    "    reload(init)\n",
    "    reload(prep)\n",
    "    reload(model)\n",
    "    reload(pred_te)\n",
    "\n",
    "    x, y = init.init()\n",
    "\n",
    "    mod = model.model_ppl()\n",
    "    \n",
    "    print('Model parameters: ' + str(mod.get_params()))\n",
    "\n",
    "    x, y = init.init()\n",
    "    tr_ind, e1_ind, e2_ind = prep.nai_splitter()\n",
    "\n",
    "    print('Training Gradient Boosting Regressor with .iloc[' + str(tr_ind[0]) + ':' + str(tr_ind[-1]) + ']')\n",
    "    tim = timer()\n",
    "    mod.fit(x.iloc[tr_ind], y.iloc[tr_ind])\n",
    "    print('Training Gradient Boosting Regressor successful in ' + str(timer() - tim) + ' s')\n",
    "\n",
    "    pred_te.printer(x, y, e1_ind, mod)\n",
    "    pred_te.printer(x, y, e2_ind, mod)"
   ]
  },
  {
   "cell_type": "markdown",
   "id": "5622d6cd-922b-4b42-913e-a901de79d446",
   "metadata": {},
   "source": [
    "## 4. Training"
   ]
  },
  {
   "cell_type": "markdown",
   "id": "9abbd39d-f99a-483c-89e3-259ac09ed7b6",
   "metadata": {},
   "source": [
    "### 4.2. Unit tester"
   ]
  },
  {
   "cell_type": "code",
   "execution_count": 8,
   "id": "10782e35-a725-4981-8d90-d135752c3185",
   "metadata": {},
   "outputs": [
    {
     "name": "stdout",
     "output_type": "stream",
     "text": [
      "Appending to tester.py\n"
     ]
    }
   ],
   "source": [
    "%%writefile -a tester.py\n",
    "\n",
    "def train_te() :\n",
    "\n",
    "    reload(init)\n",
    "    reload(prep)\n",
    "    reload(train)\n",
    "    reload(pred_te)\n",
    "\n",
    "    x, y = init.init()\n",
    "\n",
    "    tr_ind, e1_ind, e2_ind = prep.nai_splitter()\n",
    "\n",
    "    reg = train.train()\n",
    "\n",
    "    pred_te.printer(x, y, e1_ind, reg)\n",
    "    pred_te.printer(x, y, e2_ind, reg)\n"
   ]
  },
  {
   "cell_type": "markdown",
   "id": "688ac26a-c241-4f48-9052-c105688ef14c",
   "metadata": {},
   "source": [
    "## 5. Main"
   ]
  },
  {
   "cell_type": "code",
   "execution_count": 9,
   "id": "6f0581a1-21c3-40c0-8bad-6d6af7f44023",
   "metadata": {},
   "outputs": [],
   "source": [
    "\n",
    "\n",
    "def data_gen() :\n",
    "    123\n",
    "\n",
    "def main_te() :\n",
    "    123"
   ]
  }
 ],
 "metadata": {
  "kernelspec": {
   "display_name": "Python 3",
   "language": "python",
   "name": "python3"
  },
  "language_info": {
   "codemirror_mode": {
    "name": "ipython",
    "version": 3
   },
   "file_extension": ".py",
   "mimetype": "text/x-python",
   "name": "python",
   "nbconvert_exporter": "python",
   "pygments_lexer": "ipython3",
   "version": "3.6.9"
  }
 },
 "nbformat": 4,
 "nbformat_minor": 5
}
