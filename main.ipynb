{
 "cells": [
  {
   "cell_type": "markdown",
   "id": "84309ab3-85fd-4a9b-ba2c-90778b3b9d64",
   "metadata": {},
   "source": [
    "# Machine Learning Assessment"
   ]
  },
  {
   "cell_type": "markdown",
   "id": "917cc457-0659-4bc7-a25c-a1b125cb4ced",
   "metadata": {},
   "source": [
    "## Initialise"
   ]
  },
  {
   "cell_type": "markdown",
   "id": "d1896c1f-1ed4-4629-92ef-5a0d3d93b935",
   "metadata": {},
   "source": [
    "Import calls."
   ]
  },
  {
   "cell_type": "code",
   "execution_count": 42,
   "id": "182914cb-e479-4ffb-96d6-1670782988d0",
   "metadata": {},
   "outputs": [
    {
     "name": "stdout",
     "output_type": "stream",
     "text": [
      "Overwriting init.py\n"
     ]
    }
   ],
   "source": [
    "%%writefile init.py\n",
    "\n",
    "import os\n",
    "import pandas as pd\n",
    "\n",
    "def init_calls() :\n",
    "    # Convert to pandas DataFrame\n",
    "    \n",
    "    calls_df_pt = './tmp/calls_df.h5'\n",
    "    \n",
    "    if not os.path.exists('./tmp') :\n",
    "        os.system('mkdir tmp')\n",
    "    if os.path.isfile(calls_df_pt) :\n",
    "        calls_df = pd.read_hdf(calls_df_pt, key='c', mode='r')\n",
    "        # calls_df.index.to_datetime().dt.tz_convert('US/Pacific')\n",
    "    else :\n",
    "        calls_pt = './data/calls.csv'\n",
    "    \n",
    "        if not os.path.exists(calls_pt) :\n",
    "            os.system('cat get_calls.sh | sh')\n",
    "    \n",
    "        calls_df = pd.read_csv(calls_pt)\n",
    "        # print(calls_df.info())\n",
    "        # print(calls_df.head(1))\n",
    "\n",
    "        calls_df['Datetime'] = pd.to_datetime(calls_df['Datetime'],\\\n",
    "                                              format=\"%m/%d/%Y %I:%M:%S %p\"\\\n",
    "                                             ).dt.tz_localize(tz='US/Pacific',\\\n",
    "                                                              ambiguous='NaT')\n",
    "        calls_df.dropna(inplace=True)\n",
    "        calls_df.set_index('Datetime', inplace=True)\n",
    "        calls_df.index.set_names('datetime', inplace=True)\n",
    "        calls_df.sort_index(inplace=True)\n",
    "\n",
    "        calls_df.to_hdf(calls_df_pt, key='c', mode='w')\n",
    "\n",
    "        # results_df['type'] = results_df['type'].astype('category')\n",
    "    \n",
    "    return(calls_df)\n"
   ]
  },
  {
   "cell_type": "markdown",
   "id": "e967a4a6-d777-445b-91d7-e5caeb91911a",
   "metadata": {},
   "source": [
    "Import weather data."
   ]
  },
  {
   "cell_type": "code",
   "execution_count": 43,
   "id": "151cf118-95e2-4862-a36b-d13090946fcd",
   "metadata": {},
   "outputs": [
    {
     "name": "stdout",
     "output_type": "stream",
     "text": [
      "Appending to init.py\n"
     ]
    }
   ],
   "source": [
    "%%writefile -a init.py\n",
    "\n",
    "def init_weather() :\n",
    "    \n",
    "    wtr_df_pt = './tmp/wtr_df.h5'\n",
    "    \n",
    "    if not os.path.exists('./tmp') :\n",
    "        os.system('mkdir tmp')\n",
    "    if os.path.isfile(wtr_df_pt) :\n",
    "        wtr_df = pd.read_hdf(wtr_df_pt, key='w', mode='r')\n",
    "        # wtr_df.index.to_datetime().dt.tz_convert('US/Pacific')\n",
    "    else :\n",
    "        wtr_df = pd.read_csv('./data/Seattle Weatherdata 2002 to 2020.csv')\n",
    "        wtr_df['datetime'] = pd.to_datetime(wtr_df['dt'], unit='s').\\\n",
    "                                dt.tz_localize(tz='UTC').\\\n",
    "                                dt.tz_convert('US/Pacific')\n",
    "        wtr_df.set_index('datetime', inplace=True)\n",
    "\n",
    "        wtr_df = wtr_df[~wtr_df.index.duplicated()]\n",
    "    \n",
    "        wtr_df.to_hdf(wtr_df_pt, key='w', mode='w')\n",
    "\n",
    "    return(wtr_df)\n"
   ]
  },
  {
   "cell_type": "code",
   "execution_count": 44,
   "id": "74abc5ac-27cf-4bce-a9d5-5fa5910afe93",
   "metadata": {},
   "outputs": [
    {
     "name": "stdout",
     "output_type": "stream",
     "text": [
      "Appending to init.py\n"
     ]
    }
   ],
   "source": [
    "%%writefile -a init.py\n",
    "\n",
    "def init() :\n",
    "    \n",
    "    xy_df_pt = './tmp/xy_df.csv'\n",
    "    \n",
    "    if not os.path.exists('./tmp') :\n",
    "        os.system('mkdir tmp')\n",
    "    if os.path.isfile(xy_df_pt) :\n",
    "        xy_df = pd.read_csv(xy_df_pt, index_col=0) #, key='x', mode='r'\n",
    "        xy_df.index = pd.to_datetime(xy_df.index,\n",
    "                                     format='%Y-%m-%d %H:%M:%S',\n",
    "                                     utc=True).tz_convert('US/Pacific')\n",
    "    else :\n",
    "        calls_df = init_calls()\n",
    "        wtr_df = init_weather()\n",
    "    \n",
    "        x_raw = wtr_df[['temp', 'pressure', 'humidity', 'wind_speed', 'wind_deg', 'weather_id']]\n",
    "        # x_raw.drop_duplicates(inplace=True)\n",
    "\n",
    "        y_raw = calls_df['Incident Number'].resample('H').count().to_frame('incident_count')\n",
    "        xy_df = y_raw.join(x_raw.index.isocalendar())\n",
    "        xy_df.index.set_names('datetime', inplace=True)\n",
    "        xy_df['hour'] = xy_df.index.hour\n",
    "        xy_df = xy_df.join(x_raw).dropna()\n",
    "\n",
    "        xy_df.drop_duplicates(inplace=True)\n",
    "\n",
    "        xy_df.to_csv(xy_df_pt) #, key='x', mode='w'\n",
    "\n",
    "    return xy_df.iloc[:, 1:], xy_df.iloc[:, 0]\n"
   ]
  },
  {
   "cell_type": "markdown",
   "id": "b815e3eb-8a67-4a5d-baab-d2ec26960385",
   "metadata": {},
   "source": [
    "### Unit test"
   ]
  },
  {
   "cell_type": "code",
   "execution_count": 45,
   "id": "2e75beaa-dc26-4748-b5ed-c7fc82ace656",
   "metadata": {},
   "outputs": [
    {
     "name": "stdout",
     "output_type": "stream",
     "text": [
      "<class 'pandas.core.frame.DataFrame'>\n",
      "DatetimeIndex: 1560744 entries, 2003-11-07 09:30:48-08:00 to 2021-05-19 05:22:00-07:00\n",
      "Data columns (total 6 columns):\n",
      " #   Column           Non-Null Count    Dtype  \n",
      "---  ------           --------------    -----  \n",
      " 0   Address          1560744 non-null  object \n",
      " 1   Type             1560744 non-null  object \n",
      " 2   Latitude         1560744 non-null  float64\n",
      " 3   Longitude        1560744 non-null  float64\n",
      " 4   Report Location  1560744 non-null  object \n",
      " 5   Incident Number  1560744 non-null  object \n",
      "dtypes: float64(2), object(4)\n",
      "memory usage: 83.4+ MB\n",
      "None\n",
      "                                   Address            Type   Latitude  \\\n",
      "datetime                                                                \n",
      "2003-11-07 09:30:48-08:00  507 W Mercer St  Medic Response  47.624608   \n",
      "\n",
      "                            Longitude                Report Location  \\\n",
      "datetime                                                               \n",
      "2003-11-07 09:30:48-08:00 -122.363505  POINT (-122.363505 47.624608)   \n",
      "\n",
      "                          Incident Number  \n",
      "datetime                                   \n",
      "2003-11-07 09:30:48-08:00      F030080834  \n"
     ]
    }
   ],
   "source": [
    "import init\n",
    "import importlib\n",
    "\n",
    "importlib.reload(init)\n",
    "\n",
    "calls_df = init.init_calls()\n",
    "print(calls_df.info())\n",
    "print(calls_df.head(1))\n",
    "# print(calls_df.tail(2))\n",
    "# print(calls_df.iloc[calls_df.index.duplicated()])"
   ]
  },
  {
   "cell_type": "code",
   "execution_count": 46,
   "id": "79e471f3-cfa5-424a-bf3b-c0ec201cd59c",
   "metadata": {},
   "outputs": [
    {
     "name": "stdout",
     "output_type": "stream",
     "text": [
      "<class 'pandas.core.frame.DataFrame'>\n",
      "DatetimeIndex: 165192 entries, 2001-12-31 16:00:00-08:00 to 2020-11-04 15:00:00-08:00\n",
      "Data columns (total 25 columns):\n",
      " #   Column               Non-Null Count   Dtype  \n",
      "---  ------               --------------   -----  \n",
      " 0   dt                   165192 non-null  int64  \n",
      " 1   dt_iso               165192 non-null  object \n",
      " 2   timezone             165192 non-null  int64  \n",
      " 3   city_name            165192 non-null  object \n",
      " 4   lat                  165192 non-null  float64\n",
      " 5   lon                  165192 non-null  float64\n",
      " 6   temp                 165192 non-null  float64\n",
      " 7   feels_like           165192 non-null  float64\n",
      " 8   temp_min             165192 non-null  float64\n",
      " 9   temp_max             165192 non-null  float64\n",
      " 10  pressure             165192 non-null  int64  \n",
      " 11  sea_level            0 non-null       float64\n",
      " 12  grnd_level           0 non-null       float64\n",
      " 13  humidity             165192 non-null  int64  \n",
      " 14  wind_speed           165192 non-null  float64\n",
      " 15  wind_deg             165192 non-null  int64  \n",
      " 16  rain_1h              28623 non-null   float64\n",
      " 17  rain_3h              3833 non-null    float64\n",
      " 18  snow_1h              515 non-null     float64\n",
      " 19  snow_3h              58 non-null      float64\n",
      " 20  clouds_all           165192 non-null  int64  \n",
      " 21  weather_id           165192 non-null  int64  \n",
      " 22  weather_main         165192 non-null  object \n",
      " 23  weather_description  165192 non-null  object \n",
      " 24  weather_icon         165192 non-null  object \n",
      "dtypes: float64(13), int64(7), object(5)\n",
      "memory usage: 32.8+ MB\n",
      "None\n",
      "                                   dt                         dt_iso  \\\n",
      "datetime                                                               \n",
      "2001-12-31 16:00:00-08:00  1009843200  2002-01-01 00:00:00 +0000 UTC   \n",
      "\n",
      "                           timezone city_name        lat         lon  temp  \\\n",
      "datetime                                                                     \n",
      "2001-12-31 16:00:00-08:00    -28800   Seattle  47.606209 -122.332071  9.21   \n",
      "\n",
      "                           feels_like  temp_min  temp_max  ...  wind_deg  \\\n",
      "datetime                                                   ...             \n",
      "2001-12-31 16:00:00-08:00        6.88      6.63      11.0  ...        40   \n",
      "\n",
      "                           rain_1h  rain_3h  snow_1h  snow_3h  clouds_all  \\\n",
      "datetime                                                                    \n",
      "2001-12-31 16:00:00-08:00      NaN      NaN      NaN      NaN          75   \n",
      "\n",
      "                           weather_id  weather_main  weather_description  \\\n",
      "datetime                                                                   \n",
      "2001-12-31 16:00:00-08:00         803        Clouds        broken clouds   \n",
      "\n",
      "                           weather_icon  \n",
      "datetime                                 \n",
      "2001-12-31 16:00:00-08:00           04d  \n",
      "\n",
      "[1 rows x 25 columns]\n",
      "Empty DataFrame\n",
      "Columns: [dt, dt_iso, timezone, city_name, lat, lon, temp, feels_like, temp_min, temp_max, pressure, sea_level, grnd_level, humidity, wind_speed, wind_deg, rain_1h, rain_3h, snow_1h, snow_3h, clouds_all, weather_id, weather_main, weather_description, weather_icon]\n",
      "Index: []\n",
      "\n",
      "[0 rows x 25 columns]\n"
     ]
    }
   ],
   "source": [
    "import init\n",
    "import importlib\n",
    "\n",
    "importlib.reload(init)\n",
    "\n",
    "wtr_df = init.init_weather()\n",
    "print(wtr_df.info())\n",
    "print(wtr_df.head(1))\n",
    "print(wtr_df.iloc[wtr_df.index.duplicated(keep=False)])"
   ]
  },
  {
   "cell_type": "code",
   "execution_count": null,
   "id": "6ef83ff2-9db7-44bd-a2f6-6d211bdb9552",
   "metadata": {},
   "outputs": [],
   "source": [
    "import init\n",
    "import importlib\n",
    "\n",
    "importlib.reload(init)\n",
    "\n",
    "x, y = init.init()\n",
    "print(x.info())\n",
    "print(x.head(1))\n",
    "print(y.head(1))\n",
    "print(x.iloc[x.index.duplicated(keep=False)])"
   ]
  },
  {
   "cell_type": "markdown",
   "id": "2216523b-dba7-4c21-a515-f98386af2f38",
   "metadata": {},
   "source": [
    "## Preprocessing"
   ]
  },
  {
   "cell_type": "code",
   "execution_count": 20,
   "id": "60db8efe-7edf-46db-816f-d8456dbbe206",
   "metadata": {},
   "outputs": [
    {
     "name": "stdout",
     "output_type": "stream",
     "text": [
      "Overwriting prep.py\n"
     ]
    }
   ],
   "source": [
    "%%writefile prep.py\n",
    "\n",
    "import pandas as pd\n",
    "from sklearn.model_selection import TimeSeriesSplit\n",
    "\n",
    "def fwd_splitter(n_spi=2, tr_week=261, te_week=52) :\n",
    "    return TimeSeriesSplit(n_splits=n_spi, max_train_size=tr_week*7*24, test_size=te_week*7*24)\n"
   ]
  },
  {
   "cell_type": "code",
   "execution_count": 21,
   "id": "a2f22e60-57ef-4571-821e-45d9779fe59e",
   "metadata": {},
   "outputs": [
    {
     "name": "stdout",
     "output_type": "stream",
     "text": [
      "Appending to prep.py\n"
     ]
    }
   ],
   "source": [
    "%%writefile -a prep.py\n",
    "\n",
    "import numpy as np\n",
    "\n",
    "def nai_splitter() :\n",
    "    te_ind = -365*24\n",
    "    tr_ind = (-365*5-1)*24+te_ind-1\n",
    "    return np.arange(tr_ind, te_ind), np.arange(te_ind, 0)"
   ]
  },
  {
   "cell_type": "code",
   "execution_count": 14,
   "id": "f09fedea-fb21-4e5d-a7fe-48cb069ae65c",
   "metadata": {},
   "outputs": [
    {
     "data": {
      "text/plain": [
       "array([2, 3])"
      ]
     },
     "execution_count": 14,
     "metadata": {},
     "output_type": "execute_result"
    }
   ],
   "source": [
    "np.array([1, 2, 3])[np.array([-2,-1])]"
   ]
  },
  {
   "cell_type": "code",
   "execution_count": 22,
   "id": "a1283c24-ac45-45ce-b70f-0a202d08253a",
   "metadata": {},
   "outputs": [
    {
     "name": "stdout",
     "output_type": "stream",
     "text": [
      "Appending to prep.py\n"
     ]
    }
   ],
   "source": [
    "%%writefile -a prep.py\n",
    "\n",
    "from sklearn.pipeline import Pipeline\n",
    "import sklearn.preprocessing as skl_prep\n",
    "\n",
    "def prep_ppl() :\n",
    "    return(Pipeline([\n",
    "        ('std_scl', skl_prep.StandardScaler())\n",
    "    ]))\n"
   ]
  },
  {
   "cell_type": "markdown",
   "id": "b597e549-19e9-4060-836d-b34f0a21d795",
   "metadata": {},
   "source": [
    "### Unit test"
   ]
  },
  {
   "cell_type": "code",
   "execution_count": 49,
   "id": "26cf7d96-e4f9-434d-9f74-1b79e33dccfe",
   "metadata": {},
   "outputs": [
    {
     "name": "stdout",
     "output_type": "stream",
     "text": [
      "<class 'pandas.core.frame.DataFrame'>\n",
      "DatetimeIndex: 43848 entries, 2013-11-06 16:00:00-08:00 to 2018-11-07 15:00:00-08:00\n",
      "Freq: H\n",
      "Data columns (total 10 columns):\n",
      " #   Column      Non-Null Count  Dtype  \n",
      "---  ------      --------------  -----  \n",
      " 0   year        43848 non-null  UInt32 \n",
      " 1   week        43848 non-null  UInt32 \n",
      " 2   day         43848 non-null  UInt32 \n",
      " 3   hour        43848 non-null  int64  \n",
      " 4   temp        43848 non-null  float64\n",
      " 5   pressure    43848 non-null  float64\n",
      " 6   humidity    43848 non-null  float64\n",
      " 7   wind_speed  43848 non-null  float64\n",
      " 8   wind_deg    43848 non-null  float64\n",
      " 9   weather_id  43848 non-null  float64\n",
      "dtypes: UInt32(3), float64(6), int64(1)\n",
      "memory usage: 3.3 MB\n",
      "None datetime\n",
      "2018-11-07 16:00:00-08:00    19\n",
      "2018-11-07 17:00:00-08:00    20\n",
      "Freq: H, Name: incident_count, dtype: int64 148975\n",
      "<class 'pandas.core.frame.DataFrame'>\n",
      "DatetimeIndex: 43848 entries, 2014-11-05 16:00:00-08:00 to 2019-11-06 15:00:00-08:00\n",
      "Freq: H\n",
      "Data columns (total 10 columns):\n",
      " #   Column      Non-Null Count  Dtype  \n",
      "---  ------      --------------  -----  \n",
      " 0   year        43848 non-null  UInt32 \n",
      " 1   week        43848 non-null  UInt32 \n",
      " 2   day         43848 non-null  UInt32 \n",
      " 3   hour        43848 non-null  int64  \n",
      " 4   temp        43848 non-null  float64\n",
      " 5   pressure    43848 non-null  float64\n",
      " 6   humidity    43848 non-null  float64\n",
      " 7   wind_speed  43848 non-null  float64\n",
      " 8   wind_deg    43848 non-null  float64\n",
      " 9   weather_id  43848 non-null  float64\n",
      "dtypes: UInt32(3), float64(6), int64(1)\n",
      "memory usage: 3.3 MB\n",
      "None datetime\n",
      "2019-11-06 16:00:00-08:00    23\n",
      "2019-11-06 17:00:00-08:00    16\n",
      "Freq: H, Name: incident_count, dtype: int64 148975\n",
      "[-52585 -52584 -52583 ...  -8763  -8762  -8761] [-8760 -8759 -8758 ...    -4    -3    -2]\n",
      "<class 'pandas.core.frame.DataFrame'>\n",
      "DatetimeIndex: 43825 entries, 2014-11-05 15:00:00-08:00 to 2019-11-05 15:00:00-08:00\n",
      "Freq: H\n",
      "Data columns (total 10 columns):\n",
      " #   Column      Non-Null Count  Dtype  \n",
      "---  ------      --------------  -----  \n",
      " 0   year        43825 non-null  UInt32 \n",
      " 1   week        43825 non-null  UInt32 \n",
      " 2   day         43825 non-null  UInt32 \n",
      " 3   hour        43825 non-null  int64  \n",
      " 4   temp        43825 non-null  float64\n",
      " 5   pressure    43825 non-null  float64\n",
      " 6   humidity    43825 non-null  float64\n",
      " 7   wind_speed  43825 non-null  float64\n",
      " 8   wind_deg    43825 non-null  float64\n",
      " 9   weather_id  43825 non-null  float64\n",
      "dtypes: UInt32(3), float64(6), int64(1)\n",
      "memory usage: 3.3 MB\n",
      "None datetime\n",
      "2019-11-05 16:00:00-08:00    19\n",
      "2019-11-05 17:00:00-08:00    15\n",
      "Name: incident_count, dtype: int64 148975\n"
     ]
    }
   ],
   "source": [
    "import init\n",
    "import prep\n",
    "import importlib\n",
    "\n",
    "importlib.reload(init)\n",
    "importlib.reload(prep)\n",
    "\n",
    "x, y = init.init()\n",
    "for tr_ind, te_ind in prep.fwd_splitter().split(x) :\n",
    "    print(x.iloc[tr_ind].info(), y.iloc[te_ind].head(2), len(y))\n",
    "\n",
    "tr_ind, te_ind = prep.nai_splitter()\n",
    "\n",
    "print(tr_ind, te_ind)\n",
    "print(x.iloc[tr_ind].info(), y.iloc[te_ind].head(2), len(y))"
   ]
  },
  {
   "cell_type": "markdown",
   "id": "d9b07ea8-e2fa-4741-a657-410f7697ecb2",
   "metadata": {},
   "source": [
    "## Model"
   ]
  },
  {
   "cell_type": "code",
   "execution_count": 8,
   "id": "99a951d5-b3ad-4df4-a752-697d93c3031f",
   "metadata": {},
   "outputs": [
    {
     "name": "stdout",
     "output_type": "stream",
     "text": [
      "Overwriting model.py\n"
     ]
    }
   ],
   "source": [
    "%%writefile model.py\n",
    "\n",
    "from sklearn.pipeline import Pipeline\n",
    "# from sklearn.linear_model import LinearRegression\n",
    "from sklearn.ensemble import GradientBoostingRegressor\n",
    "\n",
    "import prep\n",
    "import importlib\n",
    "importlib.reload(prep)\n",
    "\n",
    "def model_ppl(rseed=0) :\n",
    "    return Pipeline([\n",
    "        ('preprocessor', prep.prep_ppl()),\n",
    "        ('regressor', GradientBoostingRegressor(random_state=rseed))\n",
    "    ])\n",
    "    "
   ]
  },
  {
   "cell_type": "code",
   "execution_count": 50,
   "id": "4c350447-f613-48c6-8e64-b43dc5c7c6a1",
   "metadata": {},
   "outputs": [
    {
     "name": "stdout",
     "output_type": "stream",
     "text": [
      "0.4788711345840311\n",
      "{'memory': None, 'steps': [('preprocessor', Pipeline(steps=[('std_scl', StandardScaler())])), ('regressor', GradientBoostingRegressor(random_state=0))], 'verbose': False, 'preprocessor': Pipeline(steps=[('std_scl', StandardScaler())]), 'regressor': GradientBoostingRegressor(random_state=0), 'preprocessor__memory': None, 'preprocessor__steps': [('std_scl', StandardScaler())], 'preprocessor__verbose': False, 'preprocessor__std_scl': StandardScaler(), 'preprocessor__std_scl__copy': True, 'preprocessor__std_scl__with_mean': True, 'preprocessor__std_scl__with_std': True, 'regressor__alpha': 0.9, 'regressor__ccp_alpha': 0.0, 'regressor__criterion': 'friedman_mse', 'regressor__init': None, 'regressor__learning_rate': 0.1, 'regressor__loss': 'ls', 'regressor__max_depth': 3, 'regressor__max_features': None, 'regressor__max_leaf_nodes': None, 'regressor__min_impurity_decrease': 0.0, 'regressor__min_impurity_split': None, 'regressor__min_samples_leaf': 1, 'regressor__min_samples_split': 2, 'regressor__min_weight_fraction_leaf': 0.0, 'regressor__n_estimators': 100, 'regressor__n_iter_no_change': None, 'regressor__random_state': 0, 'regressor__subsample': 1.0, 'regressor__tol': 0.0001, 'regressor__validation_fraction': 0.1, 'regressor__verbose': 0, 'regressor__warm_start': False}\n",
      "3.7268387689287277\n"
     ]
    },
    {
     "data": {
      "image/png": "[encoded data removed]",
      "text/plain": [
       "<matplotlib.figure.Figure at 0x7f4850e56fd0>"
      ]
     },
     "metadata": {
      "needs_background": "light"
     },
     "output_type": "display_data"
    },
    {
     "name": "stdout",
     "output_type": "stream",
     "text": [
      "0.4591402250374531\n",
      "{'memory': None, 'steps': [('preprocessor', Pipeline(steps=[('std_scl', StandardScaler())])), ('regressor', GradientBoostingRegressor(random_state=0))], 'verbose': False, 'preprocessor': Pipeline(steps=[('std_scl', StandardScaler())]), 'regressor': GradientBoostingRegressor(random_state=0), 'preprocessor__memory': None, 'preprocessor__steps': [('std_scl', StandardScaler())], 'preprocessor__verbose': False, 'preprocessor__std_scl': StandardScaler(), 'preprocessor__std_scl__copy': True, 'preprocessor__std_scl__with_mean': True, 'preprocessor__std_scl__with_std': True, 'regressor__alpha': 0.9, 'regressor__ccp_alpha': 0.0, 'regressor__criterion': 'friedman_mse', 'regressor__init': None, 'regressor__learning_rate': 0.1, 'regressor__loss': 'ls', 'regressor__max_depth': 3, 'regressor__max_features': None, 'regressor__max_leaf_nodes': None, 'regressor__min_impurity_decrease': 0.0, 'regressor__min_impurity_split': None, 'regressor__min_samples_leaf': 1, 'regressor__min_samples_split': 2, 'regressor__min_weight_fraction_leaf': 0.0, 'regressor__n_estimators': 100, 'regressor__n_iter_no_change': None, 'regressor__random_state': 0, 'regressor__subsample': 1.0, 'regressor__tol': 0.0001, 'regressor__validation_fraction': 0.1, 'regressor__verbose': 0, 'regressor__warm_start': False}\n",
      "3.7573755457578346\n"
     ]
    },
    {
     "data": {
      "image/png": "[encoded data removed]",
      "text/plain": [
       "<matplotlib.figure.Figure at 0x7f483f4f2eb8>"
      ]
     },
     "metadata": {
      "needs_background": "light"
     },
     "output_type": "display_data"
    },
    {
     "name": "stdout",
     "output_type": "stream",
     "text": [
      "0.3798402747922911\n",
      "{'memory': None, 'steps': [('preprocessor', Pipeline(steps=[('std_scl', StandardScaler())])), ('regressor', GradientBoostingRegressor(random_state=0))], 'verbose': False, 'preprocessor': Pipeline(steps=[('std_scl', StandardScaler())]), 'regressor': GradientBoostingRegressor(random_state=0), 'preprocessor__memory': None, 'preprocessor__steps': [('std_scl', StandardScaler())], 'preprocessor__verbose': False, 'preprocessor__std_scl': StandardScaler(), 'preprocessor__std_scl__copy': True, 'preprocessor__std_scl__with_mean': True, 'preprocessor__std_scl__with_std': True, 'regressor__alpha': 0.9, 'regressor__ccp_alpha': 0.0, 'regressor__criterion': 'friedman_mse', 'regressor__init': None, 'regressor__learning_rate': 0.1, 'regressor__loss': 'ls', 'regressor__max_depth': 3, 'regressor__max_features': None, 'regressor__max_leaf_nodes': None, 'regressor__min_impurity_decrease': 0.0, 'regressor__min_impurity_split': None, 'regressor__min_samples_leaf': 1, 'regressor__min_samples_split': 2, 'regressor__min_weight_fraction_leaf': 0.0, 'regressor__n_estimators': 100, 'regressor__n_iter_no_change': None, 'regressor__random_state': 0, 'regressor__subsample': 1.0, 'regressor__tol': 0.0001, 'regressor__validation_fraction': 0.1, 'regressor__verbose': 0, 'regressor__warm_start': False}\n",
      "3.7280260993714536\n"
     ]
    },
    {
     "data": {
      "image/png": "[encoded data removed]",
      "text/plain": [
       "<matplotlib.figure.Figure at 0x7f484a2459e8>"
      ]
     },
     "metadata": {
      "needs_background": "light"
     },
     "output_type": "display_data"
    }
   ],
   "source": [
    "from sklearn.pipeline import Pipeline\n",
    "\n",
    "from sklearn.metrics import mean_squared_error\n",
    "\n",
    "import numpy as np\n",
    "import pandas as pd\n",
    "import matplotlib.pyplot as plt\n",
    "\n",
    "import init\n",
    "import model\n",
    "import importlib\n",
    "\n",
    "importlib.reload(init)\n",
    "importlib.reload(prep)\n",
    "importlib.reload(model)\n",
    "\n",
    "x, y = init.init()\n",
    "\n",
    "mod = model.model_ppl()\n",
    "\n",
    "for tr_ind, te_ind in prep.splitter(n_spi=3).split(x) :\n",
    "    x_tr, y_tr = x.iloc[tr_ind], y.iloc[tr_ind]\n",
    "    x_te, y_te = x.iloc[te_ind], y.iloc[te_ind]\n",
    "\n",
    "    mod.fit(x_tr, y_tr)\n",
    "\n",
    "    y_pd = mod.predict(x_te)\n",
    "\n",
    "    print(mod.score(x_te, y_te))\n",
    "    \n",
    "    print(mod.get_params())\n",
    "\n",
    "    print(np.sqrt(mean_squared_error(y_te, y_pd)))\n",
    "\n",
    "    pd.DataFrame(data=y_pd, index=y_te.index, columns=['prediction']).join(y_te).resample('M').sum().plot()\n",
    "    plt.show()"
   ]
  },
  {
   "cell_type": "code",
   "execution_count": 10,
   "id": "3523fd4a-b3eb-4af0-a61b-4c95e69c7e5f",
   "metadata": {},
   "outputs": [
    {
     "data": {
      "text/plain": [
       "0.10422374429223745"
      ]
     },
     "execution_count": 10,
     "metadata": {},
     "output_type": "execute_result"
    }
   ],
   "source": [
    "from sklearn.svm import SVC\n",
    "from sklearn.preprocessing import StandardScaler\n",
    "# from sklearn.datasets import make_classification\n",
    "# from sklearn.model_selection import train_test_split\n",
    "from sklearn.pipeline import Pipeline\n",
    "\n",
    "# X, y = make_classification(random_state=0)\n",
    "# X_train, X_test, y_train, y_test = train_test_split(X, y, random_state=0)\n",
    "ppl = Pipeline([('scaler', StandardScaler()), ('svc', SVC())])\n",
    "# The pipeline can be used as any other estimator\n",
    "# and avoids leaking the test set into the train set\n",
    "ppl.fit(x_tr, y_tr)\n",
    "ppl.score(x_te, y_te)"
   ]
  },
  {
   "cell_type": "markdown",
   "id": "5622d6cd-922b-4b42-913e-a901de79d446",
   "metadata": {},
   "source": [
    "## Training"
   ]
  },
  {
   "cell_type": "code",
   "execution_count": 6,
   "id": "675d90c8-fc73-41fc-8bd6-1ba0d08ea6d4",
   "metadata": {},
   "outputs": [
    {
     "data": {
      "text/plain": [
       "{'memory': None,\n",
       " 'steps': [('preprocessor', Pipeline(steps=[('std_scl', StandardScaler())])),\n",
       "  ('regressor', LinearRegression())],\n",
       " 'verbose': False,\n",
       " 'preprocessor': Pipeline(steps=[('std_scl', StandardScaler())]),\n",
       " 'regressor': LinearRegression(),\n",
       " 'preprocessor__memory': None,\n",
       " 'preprocessor__steps': [('std_scl', StandardScaler())],\n",
       " 'preprocessor__verbose': False,\n",
       " 'preprocessor__std_scl': StandardScaler(),\n",
       " 'preprocessor__std_scl__copy': True,\n",
       " 'preprocessor__std_scl__with_mean': True,\n",
       " 'preprocessor__std_scl__with_std': True,\n",
       " 'regressor__copy_X': True,\n",
       " 'regressor__fit_intercept': True,\n",
       " 'regressor__n_jobs': None,\n",
       " 'regressor__normalize': False,\n",
       " 'regressor__positive': False}"
      ]
     },
     "execution_count": 6,
     "metadata": {},
     "output_type": "execute_result"
    }
   ],
   "source": [
    "from sklearn.model_selection import GridSearchCV\n",
    "\n"
   ]
  },
  {
   "cell_type": "markdown",
   "id": "3bffa11d-0ee4-4938-ac53-2a35ae1ebef5",
   "metadata": {},
   "source": [
    "## Testing"
   ]
  },
  {
   "cell_type": "code",
   "execution_count": 11,
   "id": "9480b2b9-424b-45e9-85bf-092e3983d600",
   "metadata": {},
   "outputs": [
    {
     "name": "stdout",
     "output_type": "stream",
     "text": [
      "                           prediction  incident_count\n",
      "2015-01-01 00:00:00-08:00           7              37\n",
      "2015-01-01 01:00:00-08:00           7              28\n",
      "2015-01-01 02:00:00-08:00           7              30\n",
      "2015-01-01 03:00:00-08:00           7              17\n",
      "2015-01-01 04:00:00-08:00           7              11\n",
      "...                               ...             ...\n",
      "2015-12-31 19:00:00-08:00          13              15\n",
      "2015-12-31 20:00:00-08:00          13              13\n",
      "2015-12-31 21:00:00-08:00          10              20\n",
      "2015-12-31 22:00:00-08:00          10              12\n",
      "2015-12-31 23:00:00-08:00          10              20\n",
      "\n",
      "[8760 rows x 2 columns]\n"
     ]
    },
    {
     "data": {
      "image/png": "[encoded data removed]",
      "text/plain": [
       "<matplotlib.figure.Figure at 0x7f0c17e8cda0>"
      ]
     },
     "metadata": {
      "needs_background": "light"
     },
     "output_type": "display_data"
    }
   ],
   "source": [
    "y_pdp = ppl.predict(x_te)\n",
    "ressp = pd.DataFrame(data=y_pdp, index=y_te.index, columns=['prediction']).join(y_te)\n",
    "print(ressp)\n",
    "ressp.resample('W').sum().plot()\n",
    "plt.show()"
   ]
  },
  {
   "cell_type": "code",
   "execution_count": 12,
   "id": "2fb922b2-6a78-45f9-999b-0be84ddd4c06",
   "metadata": {},
   "outputs": [
    {
     "data": {
      "image/png": "[encoded data removed]",
      "text/plain": [
       "<matplotlib.figure.Figure at 0x7f0c17b3de80>"
      ]
     },
     "metadata": {
      "needs_background": "light"
     },
     "output_type": "display_data"
    }
   ],
   "source": [
    "y_pd1p = ppl.predict(x_tr)\n",
    "pd.DataFrame(data=y_pd1p, index=y_tr.index, columns=['prediction']).join(y_tr).resample('W').sum().plot()\n",
    "plt.show()"
   ]
  }
 ],
 "metadata": {
  "kernelspec": {
   "display_name": "Python 3",
   "language": "python",
   "name": "python3"
  },
  "language_info": {
   "codemirror_mode": {
    "name": "ipython",
    "version": 3
   },
   "file_extension": ".py",
   "mimetype": "text/x-python",
   "name": "python",
   "nbconvert_exporter": "python",
   "pygments_lexer": "ipython3",
   "version": "3.6.9"
  }
 },
 "nbformat": 4,
 "nbformat_minor": 5
}
