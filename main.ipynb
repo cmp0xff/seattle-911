{
 "cells": [
  {
   "cell_type": "markdown",
   "id": "84309ab3-85fd-4a9b-ba2c-90778b3b9d64",
   "metadata": {},
   "source": [
    "# Machine Learning Assessment"
   ]
  },
  {
   "cell_type": "markdown",
   "id": "917cc457-0659-4bc7-a25c-a1b125cb4ced",
   "metadata": {},
   "source": [
    "## 1. Initialisation"
   ]
  },
  {
   "cell_type": "markdown",
   "id": "7de59d54-cc0b-4c77-8bc3-7b029f671b51",
   "metadata": {},
   "source": [
    "### 1.1. Initialiser"
   ]
  },
  {
   "cell_type": "markdown",
   "id": "d1896c1f-1ed4-4629-92ef-5a0d3d93b935",
   "metadata": {},
   "source": [
    "Import calls."
   ]
  },
  {
   "cell_type": "markdown",
   "id": "f9209632-9d79-47a1-8787-f542325826da",
   "metadata": {},
   "source": [
    "[Performance](https://pandas.pydata.org/pandas-docs/stable/user_guide/io.html#performance-considerations)"
   ]
  },
  {
   "cell_type": "code",
   "execution_count": 1,
   "id": "182914cb-e479-4ffb-96d6-1670782988d0",
   "metadata": {},
   "outputs": [
    {
     "name": "stdout",
     "output_type": "stream",
     "text": [
      "Overwriting init.py\n"
     ]
    }
   ],
   "source": [
    "%%writefile init.py\n",
    "\n",
    "import os\n",
    "import pandas as pd\n",
    "\n",
    "def calls_parser(fname) :\n",
    "    calls_df = pd.read_csv(fname)\n",
    "\n",
    "    calls_df['Datetime'] = pd.to_datetime(calls_df['Datetime'],\\\n",
    "                                          format=\"%m/%d/%Y %I:%M:%S %p\"\\\n",
    "                                         ).dt.tz_localize(tz='US/Pacific',\\\n",
    "                                                          ambiguous='NaT')\n",
    "\n",
    "    calls_df.dropna(inplace=True)\n",
    "    calls_df.set_index('Datetime', inplace=True)\n",
    "    calls_df.index.set_names('datetime', inplace=True)\n",
    "    calls_df.sort_index(inplace=True)\n",
    "\n",
    "    return calls_df\n",
    "\n",
    "    \n",
    "def init_calls() :\n",
    "    # Convert to pandas DataFrame\n",
    "    \n",
    "    calls_df_pt = './tmp/calls_df.parquet'\n",
    "    \n",
    "    if not os.path.exists('./tmp') :\n",
    "        os.system('mkdir tmp')\n",
    "    if os.path.isfile(calls_df_pt) :\n",
    "        calls_df = pd.read_parquet(calls_df_pt) # pd.read_hdf(calls_df_pt, key='c', mode='r')\n",
    "        # calls_df.index.to_datetime().dt.tz_convert('US/Pacific')\n",
    "    else :\n",
    "        calls_pt = './data/calls.csv'\n",
    "    \n",
    "        if not os.path.exists(calls_pt) :\n",
    "            os.system('cat get_calls.sh | sh')\n",
    "    \n",
    "        calls_df = calls_parser(calls_pt)\n",
    "\n",
    "        calls_df.to_parquet(calls_df_pt) # calls_df.to_hdf(calls_df_pt, key='c', mode='w')\n",
    "\n",
    "        # results_df['type'] = results_df['type'].astype('category')\n",
    "    \n",
    "    return(calls_df)\n"
   ]
  },
  {
   "cell_type": "markdown",
   "id": "e967a4a6-d777-445b-91d7-e5caeb91911a",
   "metadata": {},
   "source": [
    "Import weather data."
   ]
  },
  {
   "cell_type": "code",
   "execution_count": 2,
   "id": "151cf118-95e2-4862-a36b-d13090946fcd",
   "metadata": {},
   "outputs": [
    {
     "name": "stdout",
     "output_type": "stream",
     "text": [
      "Appending to init.py\n"
     ]
    }
   ],
   "source": [
    "%%writefile -a init.py\n",
    "\n",
    "def weather_parser(fname) :\n",
    "    wtr_df = pd.read_csv(fname)\n",
    "    wtr_df['datetime'] = pd.to_datetime(wtr_df['dt'], unit='s').\\\n",
    "                            dt.tz_localize(tz='UTC').\\\n",
    "                            dt.tz_convert('US/Pacific')\n",
    "    wtr_df.set_index('datetime', inplace=True)\n",
    "    \n",
    "    return(wtr_df)\n",
    "\n",
    "\n",
    "def init_weather() :\n",
    "    \n",
    "    wtr_df_pt = './tmp/wtr_df.parquet'\n",
    "    \n",
    "    if not os.path.exists('./tmp') :\n",
    "        os.system('mkdir tmp')\n",
    "    if os.path.isfile(wtr_df_pt) :\n",
    "        wtr_df = pd.read_parquet(wtr_df_pt) # wtr_df = pd.read_hdf(wtr_df_pt, key='w', mode='r')\n",
    "        # wtr_df.index.to_datetime().dt.tz_convert('US/Pacific')\n",
    "    else :\n",
    "        wtr_df = weather_parser('./data/Seattle Weatherdata 2002 to 2020.csv')\n",
    "\n",
    "        wtr_df = wtr_df[~wtr_df.index.duplicated()]\n",
    "\n",
    "        wtr_df.to_parquet(wtr_df_pt) # wtr_df.to_hdf(wtr_df_pt, key='w', mode='w')\n",
    "\n",
    "    return(wtr_df)\n"
   ]
  },
  {
   "cell_type": "code",
   "execution_count": 3,
   "id": "74abc5ac-27cf-4bce-a9d5-5fa5910afe93",
   "metadata": {},
   "outputs": [
    {
     "name": "stdout",
     "output_type": "stream",
     "text": [
      "Appending to init.py\n"
     ]
    }
   ],
   "source": [
    "%%writefile -a init.py\n",
    "\n",
    "def feature_parser(wtr_df) :\n",
    "    x_raw = wtr_df[['temp', 'temp_min', 'temp_max', 'pressure', 'humidity', 'wind_speed', 'wind_deg', 'weather_id']]\n",
    "    x_raw = x_raw.index.isocalendar().join(x_raw)\n",
    "    x_raw.index.set_names('datetime', inplace=True)\n",
    "\n",
    "    return x_raw\n",
    "\n",
    "def init() :\n",
    "    \n",
    "    xy_df_pt = './tmp/xy_df.parquet'\n",
    "    \n",
    "    if not os.path.exists('./tmp') :\n",
    "        os.system('mkdir tmp')\n",
    "    if os.path.isfile(xy_df_pt) :\n",
    "        xy_df = pd.read_parquet(xy_df_pt) # xy_df = pd.read_csv(xy_df_pt, index_col=0) #, key='x', mode='r'\n",
    "        xy_df.index = pd.to_datetime(xy_df.index,\n",
    "                                     format='%Y-%m-%d %H:%M:%S',\n",
    "                                     utc=True).tz_convert('US/Pacific')\n",
    "    else :\n",
    "        calls_df = init_calls()\n",
    "        wtr_df = init_weather()\n",
    "        \n",
    "        x_raw = feature_parser(wtr_df)\n",
    "\n",
    "        # x_raw.drop_duplicates(inplace=True)\n",
    "\n",
    "        y_raw = calls_df['Incident Number'].resample('H').count().to_frame('incident_count')\n",
    "        xy_df = y_raw.join(x_raw)\n",
    "        xy_df.index.set_names('datetime', inplace=True)\n",
    "        xy_df['hour'] = xy_df.index.hour\n",
    "        xy_df = xy_df.join(x_raw).dropna()\n",
    "\n",
    "        xy_df.drop_duplicates(inplace=True)\n",
    "\n",
    "        xy_df.to_parquet(xy_df_pt) #, key='x', mode='w'\n",
    "\n",
    "    return xy_df.iloc[:, 1:], xy_df.iloc[:, 0]\n"
   ]
  },
  {
   "cell_type": "markdown",
   "id": "b815e3eb-8a67-4a5d-baab-d2ec26960385",
   "metadata": {},
   "source": [
    "### 1.2. Unit tester"
   ]
  },
  {
   "cell_type": "code",
   "execution_count": 4,
   "id": "2e75beaa-dc26-4748-b5ed-c7fc82ace656",
   "metadata": {},
   "outputs": [
    {
     "name": "stdout",
     "output_type": "stream",
     "text": [
      "Overwriting init_te.py\n"
     ]
    }
   ],
   "source": [
    "%%writefile init_te.py\n",
    "\n",
    "import init\n",
    "from importlib import reload\n",
    "\n",
    "def calls_te() :\n",
    "\n",
    "    reload(init)\n",
    "\n",
    "    calls_df = init.init_calls()\n",
    "    print(calls_df.info())\n",
    "    print(calls_df.head(1))\n",
    "    # print(calls_df.tail(2))\n",
    "    # print(calls_df.iloc[calls_df.index.duplicated()])\n"
   ]
  },
  {
   "cell_type": "code",
   "execution_count": 5,
   "id": "79e471f3-cfa5-424a-bf3b-c0ec201cd59c",
   "metadata": {},
   "outputs": [
    {
     "name": "stdout",
     "output_type": "stream",
     "text": [
      "Appending to init_te.py\n"
     ]
    }
   ],
   "source": [
    "%%writefile -a init_te.py\n",
    "\n",
    "def weather_te() :\n",
    "\n",
    "    reload(init)\n",
    "\n",
    "    wtr_df = init.init_weather()\n",
    "    print(wtr_df.info())\n",
    "    print(wtr_df.head(1))\n",
    "    # print(wtr_df.iloc[wtr_df.index.duplicated(keep=False)])\n"
   ]
  },
  {
   "cell_type": "code",
   "execution_count": 6,
   "id": "6ef83ff2-9db7-44bd-a2f6-6d211bdb9552",
   "metadata": {},
   "outputs": [
    {
     "name": "stdout",
     "output_type": "stream",
     "text": [
      "Appending to init_te.py\n"
     ]
    }
   ],
   "source": [
    "%%writefile -a init_te.py\n",
    "\n",
    "def init_te() :\n",
    "\n",
    "    reload(init)\n",
    "\n",
    "    x, y = init.init()\n",
    "    print(x.info())\n",
    "    print(x.head(1))\n",
    "    print(y.head(1))\n",
    "    # print(x.iloc[x.index.duplicated(keep=False)])\n"
   ]
  },
  {
   "cell_type": "markdown",
   "id": "db7039d8-6c23-412d-825a-d53831d11455",
   "metadata": {},
   "source": [
    "### 1.3. Unit test"
   ]
  },
  {
   "cell_type": "code",
   "execution_count": 7,
   "id": "a6b8e1a6-5262-48c3-ae60-bbfc2e708768",
   "metadata": {},
   "outputs": [],
   "source": [
    "import init_te\n",
    "from importlib import reload"
   ]
  },
  {
   "cell_type": "code",
   "execution_count": 8,
   "id": "0a3908e6-6456-4ab4-b61f-793ebf6080ba",
   "metadata": {},
   "outputs": [
    {
     "name": "stdout",
     "output_type": "stream",
     "text": [
      "<class 'pandas.core.frame.DataFrame'>\n",
      "DatetimeIndex: 1560241 entries, 2003-11-07 09:30:48-08:00 to 2021-05-17 10:25:00-07:00\n",
      "Data columns (total 6 columns):\n",
      " #   Column           Non-Null Count    Dtype  \n",
      "---  ------           --------------    -----  \n",
      " 0   Address          1560241 non-null  object \n",
      " 1   Type             1560241 non-null  object \n",
      " 2   Latitude         1560241 non-null  float64\n",
      " 3   Longitude        1560241 non-null  float64\n",
      " 4   Report Location  1560241 non-null  object \n",
      " 5   Incident Number  1560241 non-null  object \n",
      "dtypes: float64(2), object(4)\n",
      "memory usage: 83.3+ MB\n",
      "None\n",
      "                                   Address            Type   Latitude  \\\n",
      "datetime                                                                \n",
      "2003-11-07 09:30:48-08:00  507 W Mercer St  Medic Response  47.624608   \n",
      "\n",
      "                            Longitude                Report Location  \\\n",
      "datetime                                                               \n",
      "2003-11-07 09:30:48-08:00 -122.363505  POINT (-122.363505 47.624608)   \n",
      "\n",
      "                          Incident Number  \n",
      "datetime                                   \n",
      "2003-11-07 09:30:48-08:00      F030080834  \n"
     ]
    }
   ],
   "source": [
    "reload(init_te)\n",
    "init_te.calls_te()"
   ]
  },
  {
   "cell_type": "code",
   "execution_count": 9,
   "id": "b58bc0d1-29d6-41bc-a4aa-ea53e73e6120",
   "metadata": {},
   "outputs": [
    {
     "name": "stdout",
     "output_type": "stream",
     "text": [
      "<class 'pandas.core.frame.DataFrame'>\n",
      "DatetimeIndex: 165192 entries, 2001-12-31 16:00:00-08:00 to 2020-11-04 15:00:00-08:00\n",
      "Data columns (total 25 columns):\n",
      " #   Column               Non-Null Count   Dtype  \n",
      "---  ------               --------------   -----  \n",
      " 0   dt                   165192 non-null  int64  \n",
      " 1   dt_iso               165192 non-null  object \n",
      " 2   timezone             165192 non-null  int64  \n",
      " 3   city_name            165192 non-null  object \n",
      " 4   lat                  165192 non-null  float64\n",
      " 5   lon                  165192 non-null  float64\n",
      " 6   temp                 165192 non-null  float64\n",
      " 7   feels_like           165192 non-null  float64\n",
      " 8   temp_min             165192 non-null  float64\n",
      " 9   temp_max             165192 non-null  float64\n",
      " 10  pressure             165192 non-null  int64  \n",
      " 11  sea_level            0 non-null       float64\n",
      " 12  grnd_level           0 non-null       float64\n",
      " 13  humidity             165192 non-null  int64  \n",
      " 14  wind_speed           165192 non-null  float64\n",
      " 15  wind_deg             165192 non-null  int64  \n",
      " 16  rain_1h              28623 non-null   float64\n",
      " 17  rain_3h              3833 non-null    float64\n",
      " 18  snow_1h              515 non-null     float64\n",
      " 19  snow_3h              58 non-null      float64\n",
      " 20  clouds_all           165192 non-null  int64  \n",
      " 21  weather_id           165192 non-null  int64  \n",
      " 22  weather_main         165192 non-null  object \n",
      " 23  weather_description  165192 non-null  object \n",
      " 24  weather_icon         165192 non-null  object \n",
      "dtypes: float64(13), int64(7), object(5)\n",
      "memory usage: 32.8+ MB\n",
      "None\n",
      "                                   dt                         dt_iso  \\\n",
      "datetime                                                               \n",
      "2001-12-31 16:00:00-08:00  1009843200  2002-01-01 00:00:00 +0000 UTC   \n",
      "\n",
      "                           timezone city_name        lat         lon  temp  \\\n",
      "datetime                                                                     \n",
      "2001-12-31 16:00:00-08:00    -28800   Seattle  47.606209 -122.332071  9.21   \n",
      "\n",
      "                           feels_like  temp_min  temp_max  ...  wind_deg  \\\n",
      "datetime                                                   ...             \n",
      "2001-12-31 16:00:00-08:00        6.88      6.63      11.0  ...        40   \n",
      "\n",
      "                           rain_1h  rain_3h  snow_1h  snow_3h  clouds_all  \\\n",
      "datetime                                                                    \n",
      "2001-12-31 16:00:00-08:00      NaN      NaN      NaN      NaN          75   \n",
      "\n",
      "                           weather_id  weather_main  weather_description  \\\n",
      "datetime                                                                   \n",
      "2001-12-31 16:00:00-08:00         803        Clouds        broken clouds   \n",
      "\n",
      "                           weather_icon  \n",
      "datetime                                 \n",
      "2001-12-31 16:00:00-08:00           04d  \n",
      "\n",
      "[1 rows x 25 columns]\n"
     ]
    }
   ],
   "source": [
    "reload(init_te)\n",
    "init_te.weather_te()"
   ]
  },
  {
   "cell_type": "code",
   "execution_count": 10,
   "id": "79ccb2c6-8939-4c36-a115-a5b643c2c14a",
   "metadata": {},
   "outputs": [
    {
     "name": "stdout",
     "output_type": "stream",
     "text": [
      "<class 'pandas.core.frame.DataFrame'>\n",
      "DatetimeIndex: 148975 entries, 2003-11-07 09:00:00-08:00 to 2020-11-04 15:00:00-08:00\n",
      "Data columns (total 10 columns):\n",
      " #   Column      Non-Null Count   Dtype  \n",
      "---  ------      --------------   -----  \n",
      " 0   year        148975 non-null  UInt32 \n",
      " 1   week        148975 non-null  UInt32 \n",
      " 2   day         148975 non-null  UInt32 \n",
      " 3   hour        148975 non-null  int64  \n",
      " 4   temp        148975 non-null  float64\n",
      " 5   pressure    148975 non-null  float64\n",
      " 6   humidity    148975 non-null  float64\n",
      " 7   wind_speed  148975 non-null  float64\n",
      " 8   wind_deg    148975 non-null  float64\n",
      " 9   weather_id  148975 non-null  float64\n",
      "dtypes: UInt32(3), float64(6), int64(1)\n",
      "memory usage: 11.2 MB\n",
      "None\n",
      "                           year  week  day  hour  temp  pressure  humidity  \\\n",
      "datetime                                                                     \n",
      "2003-11-07 09:00:00-08:00  2003    45    5     9  5.62    1018.0      65.0   \n",
      "\n",
      "                           wind_speed  wind_deg  weather_id  \n",
      "datetime                                                     \n",
      "2003-11-07 09:00:00-08:00         2.1     320.0       802.0  \n",
      "datetime\n",
      "2003-11-07 09:00:00-08:00    5\n",
      "Name: incident_count, dtype: int64\n"
     ]
    }
   ],
   "source": [
    "reload(init_te)\n",
    "init_te.init_te()"
   ]
  },
  {
   "cell_type": "markdown",
   "id": "2216523b-dba7-4c21-a515-f98386af2f38",
   "metadata": {},
   "source": [
    "## 2. Preprocessing"
   ]
  },
  {
   "cell_type": "markdown",
   "id": "4060150d-6c54-4d55-adec-1f7ec071513b",
   "metadata": {},
   "source": [
    "### 2.1. Preprocessor"
   ]
  },
  {
   "cell_type": "code",
   "execution_count": 11,
   "id": "60db8efe-7edf-46db-816f-d8456dbbe206",
   "metadata": {},
   "outputs": [
    {
     "name": "stdout",
     "output_type": "stream",
     "text": [
      "Overwriting prep.py\n"
     ]
    }
   ],
   "source": [
    "%%writefile prep.py\n",
    "\n",
    "import pandas as pd\n",
    "import numpy as np\n",
    "\n",
    "from sklearn.pipeline import Pipeline\n",
    "import sklearn.preprocessing as skl_prep\n",
    "from sklearn.model_selection import TimeSeriesSplit\n",
    "\n",
    "def fwd_splitter(n_spi=2, tr_week=261, te_week=52) :\n",
    "    return TimeSeriesSplit(n_splits=n_spi, max_train_size=tr_week*7*24, test_size=te_week*7*24)\n"
   ]
  },
  {
   "cell_type": "code",
   "execution_count": 12,
   "id": "a2f22e60-57ef-4571-821e-45d9779fe59e",
   "metadata": {},
   "outputs": [
    {
     "name": "stdout",
     "output_type": "stream",
     "text": [
      "Appending to prep.py\n"
     ]
    }
   ],
   "source": [
    "%%writefile -a prep.py\n",
    "\n",
    "def nai_splitter() :\n",
    "    e1_ind = -365*24\n",
    "    tr_ind = (-365*5-1)*24+e1_ind\n",
    "    e2_ind = (-365*5-1)*24+2*e1_ind\n",
    "    return np.arange(tr_ind, e1_ind), np.arange(e1_ind, 0), np.arange(e2_ind, tr_ind)\n"
   ]
  },
  {
   "cell_type": "code",
   "execution_count": 13,
   "id": "a1283c24-ac45-45ce-b70f-0a202d08253a",
   "metadata": {},
   "outputs": [
    {
     "name": "stdout",
     "output_type": "stream",
     "text": [
      "Appending to prep.py\n"
     ]
    }
   ],
   "source": [
    "%%writefile -a prep.py\n",
    "\n",
    "def prep_ppl() :\n",
    "    return(Pipeline([\n",
    "        ('std_scl', skl_prep.StandardScaler())\n",
    "    ]))\n"
   ]
  },
  {
   "cell_type": "markdown",
   "id": "b597e549-19e9-4060-836d-b34f0a21d795",
   "metadata": {},
   "source": [
    "### 2.2. Unit tester"
   ]
  },
  {
   "cell_type": "code",
   "execution_count": 14,
   "id": "26cf7d96-e4f9-434d-9f74-1b79e33dccfe",
   "metadata": {},
   "outputs": [
    {
     "name": "stdout",
     "output_type": "stream",
     "text": [
      "Overwriting prep_te.py\n"
     ]
    }
   ],
   "source": [
    "%%writefile prep_te.py\n",
    "\n",
    "import init\n",
    "import prep\n",
    "from importlib import reload\n"
   ]
  },
  {
   "cell_type": "code",
   "execution_count": 15,
   "id": "a8547d58-77a5-4a1a-a4ed-a59690a8f4c3",
   "metadata": {},
   "outputs": [
    {
     "name": "stdout",
     "output_type": "stream",
     "text": [
      "Appending to prep_te.py\n"
     ]
    }
   ],
   "source": [
    "%%writefile -a prep_te.py\n",
    "\n",
    "def fwe_te() :\n",
    "\n",
    "    reload(init)\n",
    "    reload(prep)\n",
    "\n",
    "    x, y = init.init()\n",
    "    for tr_ind, te_ind in prep.fwd_splitter().split(x) :\n",
    "        print(x.iloc[tr_ind].info(), y.iloc[te_ind].head(2), len(y))\n"
   ]
  },
  {
   "cell_type": "code",
   "execution_count": 16,
   "id": "bb1b2baa-0ba8-49a5-8980-31aea9162bbb",
   "metadata": {},
   "outputs": [
    {
     "name": "stdout",
     "output_type": "stream",
     "text": [
      "Appending to prep_te.py\n"
     ]
    }
   ],
   "source": [
    "%%writefile -a prep_te.py\n",
    "\n",
    "def nai_te() :\n",
    "\n",
    "    reload(init)\n",
    "    reload(prep)\n",
    "\n",
    "    x, y = init.init()\n",
    "    tr_ind, e1_ind, e2_ind = prep.nai_splitter()\n",
    "\n",
    "    print(tr_ind, e1_ind, e2_ind)\n",
    "    print(x.iloc[tr_ind].info(), y.iloc[e1_ind].head(2), y.iloc[e2_ind].head(2),)\n"
   ]
  },
  {
   "cell_type": "markdown",
   "id": "dbd99bbd-0474-4a73-8a40-5b66369da0f5",
   "metadata": {},
   "source": [
    "### 2.3. Unit test"
   ]
  },
  {
   "cell_type": "code",
   "execution_count": 17,
   "id": "ce157237-1cf5-4544-9d70-f45752812dd0",
   "metadata": {},
   "outputs": [],
   "source": [
    "import prep_te\n",
    "from importlib import reload"
   ]
  },
  {
   "cell_type": "code",
   "execution_count": 18,
   "id": "e26e889d-920e-41cf-afbc-c661a7752158",
   "metadata": {},
   "outputs": [
    {
     "name": "stdout",
     "output_type": "stream",
     "text": [
      "<class 'pandas.core.frame.DataFrame'>\n",
      "DatetimeIndex: 43848 entries, 2013-11-06 16:00:00-08:00 to 2018-11-07 15:00:00-08:00\n",
      "Data columns (total 10 columns):\n",
      " #   Column      Non-Null Count  Dtype  \n",
      "---  ------      --------------  -----  \n",
      " 0   year        43848 non-null  UInt32 \n",
      " 1   week        43848 non-null  UInt32 \n",
      " 2   day         43848 non-null  UInt32 \n",
      " 3   hour        43848 non-null  int64  \n",
      " 4   temp        43848 non-null  float64\n",
      " 5   pressure    43848 non-null  float64\n",
      " 6   humidity    43848 non-null  float64\n",
      " 7   wind_speed  43848 non-null  float64\n",
      " 8   wind_deg    43848 non-null  float64\n",
      " 9   weather_id  43848 non-null  float64\n",
      "dtypes: UInt32(3), float64(6), int64(1)\n",
      "memory usage: 3.3 MB\n",
      "None datetime\n",
      "2018-11-07 16:00:00-08:00    19\n",
      "2018-11-07 17:00:00-08:00    20\n",
      "Name: incident_count, dtype: int64 148975\n",
      "<class 'pandas.core.frame.DataFrame'>\n",
      "DatetimeIndex: 43848 entries, 2014-11-05 16:00:00-08:00 to 2019-11-06 15:00:00-08:00\n",
      "Data columns (total 10 columns):\n",
      " #   Column      Non-Null Count  Dtype  \n",
      "---  ------      --------------  -----  \n",
      " 0   year        43848 non-null  UInt32 \n",
      " 1   week        43848 non-null  UInt32 \n",
      " 2   day         43848 non-null  UInt32 \n",
      " 3   hour        43848 non-null  int64  \n",
      " 4   temp        43848 non-null  float64\n",
      " 5   pressure    43848 non-null  float64\n",
      " 6   humidity    43848 non-null  float64\n",
      " 7   wind_speed  43848 non-null  float64\n",
      " 8   wind_deg    43848 non-null  float64\n",
      " 9   weather_id  43848 non-null  float64\n",
      "dtypes: UInt32(3), float64(6), int64(1)\n",
      "memory usage: 3.3 MB\n",
      "None datetime\n",
      "2019-11-06 16:00:00-08:00    23\n",
      "2019-11-06 17:00:00-08:00    16\n",
      "Name: incident_count, dtype: int64 148975\n"
     ]
    }
   ],
   "source": [
    "reload(prep_te)\n",
    "prep_te.fwe_te()"
   ]
  },
  {
   "cell_type": "code",
   "execution_count": 19,
   "id": "0c1740d5-5999-4770-b4c6-6fbc3306c7bc",
   "metadata": {},
   "outputs": [
    {
     "name": "stdout",
     "output_type": "stream",
     "text": [
      "[-52584 -52583 -52582 ...  -8763  -8762  -8761] [-8760 -8759 -8758 ...    -3    -2    -1] [-61344 -61343 -61342 ... -52587 -52586 -52585]\n",
      "<class 'pandas.core.frame.DataFrame'>\n",
      "DatetimeIndex: 43824 entries, 2014-11-05 16:00:00-08:00 to 2019-11-05 15:00:00-08:00\n",
      "Data columns (total 10 columns):\n",
      " #   Column      Non-Null Count  Dtype  \n",
      "---  ------      --------------  -----  \n",
      " 0   year        43824 non-null  UInt32 \n",
      " 1   week        43824 non-null  UInt32 \n",
      " 2   day         43824 non-null  UInt32 \n",
      " 3   hour        43824 non-null  int64  \n",
      " 4   temp        43824 non-null  float64\n",
      " 5   pressure    43824 non-null  float64\n",
      " 6   humidity    43824 non-null  float64\n",
      " 7   wind_speed  43824 non-null  float64\n",
      " 8   wind_deg    43824 non-null  float64\n",
      " 9   weather_id  43824 non-null  float64\n",
      "dtypes: UInt32(3), float64(6), int64(1)\n",
      "memory usage: 3.3 MB\n",
      "None datetime\n",
      "2019-11-05 16:00:00-08:00    19\n",
      "2019-11-05 17:00:00-08:00    15\n",
      "Name: incident_count, dtype: int64 datetime\n",
      "2013-11-05 16:00:00-08:00    10\n",
      "2013-11-05 17:00:00-08:00    19\n",
      "Name: incident_count, dtype: int64\n"
     ]
    }
   ],
   "source": [
    "reload(prep_te)\n",
    "prep_te.nai_te()"
   ]
  },
  {
   "cell_type": "markdown",
   "id": "d9b07ea8-e2fa-4741-a657-410f7697ecb2",
   "metadata": {},
   "source": [
    "## 3. Modelling"
   ]
  },
  {
   "cell_type": "markdown",
   "id": "86d8ee52-1cf3-4e23-868e-5bd5c4cdcc31",
   "metadata": {},
   "source": [
    "### 3.1. Estimator"
   ]
  },
  {
   "cell_type": "code",
   "execution_count": 20,
   "id": "99a951d5-b3ad-4df4-a752-697d93c3031f",
   "metadata": {},
   "outputs": [
    {
     "name": "stdout",
     "output_type": "stream",
     "text": [
      "Overwriting model.py\n"
     ]
    }
   ],
   "source": [
    "%%writefile model.py\n",
    "\n",
    "from sklearn.pipeline import Pipeline\n",
    "# from sklearn.linear_model import LinearRegression\n",
    "from sklearn.ensemble import GradientBoostingRegressor\n",
    "\n",
    "import prep\n",
    "\n",
    "def model_ppl(rseed=0) :\n",
    "    return Pipeline([\n",
    "        ('preprocessor', prep.prep_ppl()),\n",
    "        ('regressor', GradientBoostingRegressor(random_state=rseed))\n",
    "    ])\n",
    "    "
   ]
  },
  {
   "cell_type": "markdown",
   "id": "74dc5a7f-27c0-427d-b5e5-56621dace56a",
   "metadata": {},
   "source": [
    "### 3.2. Unit tester"
   ]
  },
  {
   "cell_type": "code",
   "execution_count": 21,
   "id": "4c350447-f613-48c6-8e64-b43dc5c7c6a1",
   "metadata": {},
   "outputs": [
    {
     "name": "stdout",
     "output_type": "stream",
     "text": [
      "Overwriting model_te.py\n"
     ]
    }
   ],
   "source": [
    "%%writefile model_te.py\n",
    "\n",
    "from sklearn.pipeline import Pipeline\n",
    "\n",
    "from sklearn.metrics import mean_squared_error\n",
    "\n",
    "import numpy as np\n",
    "import pandas as pd\n",
    "import matplotlib.pyplot as plt\n",
    "\n",
    "import init\n",
    "import prep\n",
    "import model\n",
    "from importlib import reload\n",
    "\n",
    "def model_fwd_te(n_spi=2) :\n",
    "\n",
    "    reload(init)\n",
    "    reload(prep)\n",
    "    reload(model)\n",
    "\n",
    "    x, y = init.init()\n",
    "\n",
    "    mod = model.model_ppl()\n",
    "    print(mod.get_params())\n",
    "\n",
    "    for tr_ind, te_ind in prep.fwd_splitter(n_spi=n_spi).split(x) :\n",
    "        x_tr, y_tr = x.iloc[tr_ind], y.iloc[tr_ind]\n",
    "        x_te, y_te = x.iloc[te_ind], y.iloc[te_ind]\n",
    "\n",
    "        mod.fit(x_tr, y_tr)\n",
    "\n",
    "        y_pd = mod.predict(x_te)\n",
    "\n",
    "        print(mod.score(x_te, y_te))\n",
    "\n",
    "        print(np.sqrt(mean_squared_error(y_te, y_pd)))\n",
    "\n",
    "        pd.DataFrame(data=y_pd, index=y_te.index, columns=['prediction']).join(y_te).resample('W').sum().plot()\n",
    "        plt.show()\n",
    "\n",
    "def model_nai_te() :\n",
    "\n",
    "    reload(init)\n",
    "    reload(prep)\n",
    "    reload(model)\n",
    "\n",
    "    x, y = init.init()\n",
    "\n",
    "    mod = model.model_ppl()\n",
    "    \n",
    "    print(mod.get_params())\n",
    "\n",
    "    x, y = init.init()\n",
    "    tr_ind, e1_ind, e2_ind = prep.nai_splitter()\n",
    "\n",
    "    mod.fit(x.iloc[tr_ind], y.iloc[tr_ind])\n",
    "\n",
    "    y_p1 = mod.predict(x.iloc[e1_ind])\n",
    "    print(mod.score(x.iloc[e1_ind], y.iloc[e1_ind]))\n",
    "    print(np.sqrt(mean_squared_error(y.iloc[e1_ind], y_p1)))\n",
    "    pd.DataFrame(data=y_p1, index=y.iloc[e1_ind].index, columns=['prediction']).join(y.iloc[e1_ind]).resample('W').sum().plot()\n",
    "    plt.show()\n",
    "\n",
    "    y_p2 = mod.predict(x.iloc[e2_ind])\n",
    "    print(mod.score(x.iloc[e2_ind], y.iloc[e2_ind]))\n",
    "    print(np.sqrt(mean_squared_error(y.iloc[e2_ind], y_p2)))\n",
    "    pd.DataFrame(data=y_p2, index=y.iloc[e2_ind].index, columns=['prediction']).join(y.iloc[e2_ind]).resample('W').sum().plot()\n",
    "    plt.show()"
   ]
  },
  {
   "cell_type": "markdown",
   "id": "5f6bf0e0-4c64-4de1-a9dd-bf86645ded4f",
   "metadata": {},
   "source": [
    "### 3.3. Unit test"
   ]
  },
  {
   "cell_type": "code",
   "execution_count": 22,
   "id": "45da179c-a319-47e1-b0af-25c1674bf043",
   "metadata": {},
   "outputs": [
    {
     "name": "stdout",
     "output_type": "stream",
     "text": [
      "{'memory': None, 'steps': [('preprocessor', Pipeline(steps=[('std_scl', StandardScaler())])), ('regressor', GradientBoostingRegressor(random_state=0))], 'verbose': False, 'preprocessor': Pipeline(steps=[('std_scl', StandardScaler())]), 'regressor': GradientBoostingRegressor(random_state=0), 'preprocessor__memory': None, 'preprocessor__steps': [('std_scl', StandardScaler())], 'preprocessor__verbose': False, 'preprocessor__std_scl': StandardScaler(), 'preprocessor__std_scl__copy': True, 'preprocessor__std_scl__with_mean': True, 'preprocessor__std_scl__with_std': True, 'regressor__alpha': 0.9, 'regressor__ccp_alpha': 0.0, 'regressor__criterion': 'friedman_mse', 'regressor__init': None, 'regressor__learning_rate': 0.1, 'regressor__loss': 'ls', 'regressor__max_depth': 3, 'regressor__max_features': None, 'regressor__max_leaf_nodes': None, 'regressor__min_impurity_decrease': 0.0, 'regressor__min_impurity_split': None, 'regressor__min_samples_leaf': 1, 'regressor__min_samples_split': 2, 'regressor__min_weight_fraction_leaf': 0.0, 'regressor__n_estimators': 100, 'regressor__n_iter_no_change': None, 'regressor__random_state': 0, 'regressor__subsample': 1.0, 'regressor__tol': 0.0001, 'regressor__validation_fraction': 0.1, 'regressor__verbose': 0, 'regressor__warm_start': False}\n",
      "0.37925153259693567\n",
      "3.731537878368383\n"
     ]
    },
    {
     "data": {
      "image/png": "[encoded data removed]",
      "text/plain": [
       "<Figure size 432x288 with 1 Axes>"
      ]
     },
     "metadata": {
      "needs_background": "light"
     },
     "output_type": "display_data"
    },
    {
     "name": "stdout",
     "output_type": "stream",
     "text": [
      "0.44128860145482773\n",
      "3.67590090158763\n"
     ]
    },
    {
     "data": {
      "image/png": "[encoded data removed]",
      "text/plain": [
       "<Figure size 432x288 with 1 Axes>"
      ]
     },
     "metadata": {
      "needs_background": "light"
     },
     "output_type": "display_data"
    }
   ],
   "source": [
    "import model_te\n",
    "from importlib import reload\n",
    "\n",
    "reload(model_te)\n",
    "\n",
    "model_te.model_nai_te()"
   ]
  },
  {
   "cell_type": "code",
   "execution_count": 23,
   "id": "5f8864fd-1fcf-4c01-9aa4-31a31e78e791",
   "metadata": {},
   "outputs": [
    {
     "name": "stdout",
     "output_type": "stream",
     "text": [
      "{'memory': None, 'steps': [('preprocessor', Pipeline(steps=[('std_scl', StandardScaler())])), ('regressor', GradientBoostingRegressor(random_state=0))], 'verbose': False, 'preprocessor': Pipeline(steps=[('std_scl', StandardScaler())]), 'regressor': GradientBoostingRegressor(random_state=0), 'preprocessor__memory': None, 'preprocessor__steps': [('std_scl', StandardScaler())], 'preprocessor__verbose': False, 'preprocessor__std_scl': StandardScaler(), 'preprocessor__std_scl__copy': True, 'preprocessor__std_scl__with_mean': True, 'preprocessor__std_scl__with_std': True, 'regressor__alpha': 0.9, 'regressor__ccp_alpha': 0.0, 'regressor__criterion': 'friedman_mse', 'regressor__init': None, 'regressor__learning_rate': 0.1, 'regressor__loss': 'ls', 'regressor__max_depth': 3, 'regressor__max_features': None, 'regressor__max_leaf_nodes': None, 'regressor__min_impurity_decrease': 0.0, 'regressor__min_impurity_split': None, 'regressor__min_samples_leaf': 1, 'regressor__min_samples_split': 2, 'regressor__min_weight_fraction_leaf': 0.0, 'regressor__n_estimators': 100, 'regressor__n_iter_no_change': None, 'regressor__random_state': 0, 'regressor__subsample': 1.0, 'regressor__tol': 0.0001, 'regressor__validation_fraction': 0.1, 'regressor__verbose': 0, 'regressor__warm_start': False}\n",
      "0.4591402250374531\n",
      "3.7573755457578346\n"
     ]
    },
    {
     "data": {
      "image/png": "[encoded data removed]",
      "text/plain": [
       "<Figure size 432x288 with 1 Axes>"
      ]
     },
     "metadata": {
      "needs_background": "light"
     },
     "output_type": "display_data"
    },
    {
     "name": "stdout",
     "output_type": "stream",
     "text": [
      "0.3798402747922911\n",
      "3.7280260993714536\n"
     ]
    },
    {
     "data": {
      "image/png": "[encoded data removed]",
      "text/plain": [
       "<Figure size 432x288 with 1 Axes>"
      ]
     },
     "metadata": {
      "needs_background": "light"
     },
     "output_type": "display_data"
    }
   ],
   "source": [
    "import model_te\n",
    "from importlib import reload\n",
    "\n",
    "reload(model_te)\n",
    "\n",
    "model_te.model_fwd_te(2)"
   ]
  },
  {
   "cell_type": "markdown",
   "id": "5622d6cd-922b-4b42-913e-a901de79d446",
   "metadata": {},
   "source": [
    "## 4. Training"
   ]
  },
  {
   "cell_type": "markdown",
   "id": "b406676a-dc9d-4d3b-a967-1b95ec941337",
   "metadata": {},
   "source": [
    "### 4.1. Alchemist"
   ]
  },
  {
   "cell_type": "markdown",
   "id": "3185b8ac-070d-4cfa-beb2-29f02aafaf76",
   "metadata": {},
   "source": [
    "[parameters](https://stackoverflow.com/a/49501713/2682621)"
   ]
  },
  {
   "cell_type": "code",
   "execution_count": 11,
   "id": "675d90c8-fc73-41fc-8bd6-1ba0d08ea6d4",
   "metadata": {},
   "outputs": [
    {
     "name": "stdout",
     "output_type": "stream",
     "text": [
      "Overwriting train.py\n"
     ]
    }
   ],
   "source": [
    "%%writefile train.py\n",
    "\n",
    "import os\n",
    "from sklearn.model_selection import GridSearchCV\n",
    "import joblib\n",
    "\n",
    "import init\n",
    "import prep\n",
    "import model\n",
    "\n",
    "def train() :\n",
    "\n",
    "    if not os.path.exists('./tmp') :\n",
    "        os.system('mkdir tmp')\n",
    "\n",
    "    train_pt = './tmp/reg.pkl'\n",
    "    if os.path.isfile(train_pt) :\n",
    "        print('Load saved regressor from ' + train_pt)\n",
    "        reg = joblib.load(train_pt)\n",
    "    else:\n",
    "        x, y = init.init()\n",
    "        tr_ind, e1_ind, e2_ind = prep.nai_splitter()\n",
    "    \n",
    "        p_grid = {\n",
    "            'regressor__n_estimators': [100, 300, 500],\n",
    "            'regressor__max_depth': [3, 4, 5]\n",
    "        }\n",
    "\n",
    "        reg = GridSearchCV(estimator=model.model_ppl(),\n",
    "                           param_grid=p_grid,\n",
    "                           n_jobs=-1,\n",
    "                           verbose=2)\n",
    "\n",
    "        reg.fit(x.iloc[tr_ind], y.iloc[tr_ind])\n",
    "        \n",
    "        joblib.dump(reg, train_pt)\n",
    "        \n",
    "    return reg\n"
   ]
  },
  {
   "cell_type": "markdown",
   "id": "9abbd39d-f99a-483c-89e3-259ac09ed7b6",
   "metadata": {},
   "source": [
    "### 4.2. Unit tester"
   ]
  },
  {
   "cell_type": "code",
   "execution_count": 41,
   "id": "10782e35-a725-4981-8d90-d135752c3185",
   "metadata": {},
   "outputs": [
    {
     "name": "stdout",
     "output_type": "stream",
     "text": [
      "0.37925153259693567\n"
     ]
    },
    {
     "data": {
      "image/png": "[encoded data removed]",
      "text/plain": [
       "<Figure size 432x288 with 1 Axes>"
      ]
     },
     "metadata": {
      "needs_background": "light"
     },
     "output_type": "display_data"
    },
    {
     "name": "stdout",
     "output_type": "stream",
     "text": [
      "0.44128860145482773\n"
     ]
    },
    {
     "data": {
      "image/png": "[encoded data removed]",
      "text/plain": [
       "<Figure size 432x288 with 1 Axes>"
      ]
     },
     "metadata": {
      "needs_background": "light"
     },
     "output_type": "display_data"
    }
   ],
   "source": [
    "import pandas as pd\n",
    "import matplotlib.pyplot as plt\n",
    "\n",
    "import train\n",
    "\n",
    "reg = train.train()\n",
    "\n",
    "y_p1 = reg.predict(x.iloc[e1_ind])\n",
    "print(reg.score(x.iloc[e1_ind], y.iloc[e1_ind]))\n",
    "pd.DataFrame(data=y_p1, index=x.iloc[e1_ind].index, columns=['prediction']).join(y.iloc[e1_ind]).resample('W').sum().plot()\n",
    "plt.show()\n",
    "\n",
    "y_p2 = reg.predict(x.iloc[e1_ind])\n",
    "print(reg.score(x.iloc[e2_ind], y.iloc[e2_ind]))\n",
    "pd.DataFrame(data=y_p2, index=x.iloc[e2_ind].index, columns=['prediction']).join(y.iloc[e2_ind]).resample('W').sum().plot()\n",
    "plt.show()"
   ]
  },
  {
   "cell_type": "markdown",
   "id": "688ac26a-c241-4f48-9052-c105688ef14c",
   "metadata": {},
   "source": [
    "## 5. Main"
   ]
  },
  {
   "cell_type": "code",
   "execution_count": null,
   "id": "44a491f6-13c2-479c-bf09-6f5a414b3b5d",
   "metadata": {},
   "outputs": [],
   "source": [
    "%%writefile main.py\n",
    "\n",
    "import sys\n",
    "\n",
    "import init\n",
    "import train\n",
    "\n",
    "def main() :\n",
    "    if len(sys.argv) == 1 or len(sys.argv) > 3 :\n",
    "        print('usage: python main.py input.csv [calls.csv]')\n",
    "    else :\n",
    "        wtr_new = init.weather_parser(sys.argv[1])\n",
    "        x_new = init.feature_parser(wtr_new)\n",
    "        reg = train.train()\n",
    "        y_pew = reg.predict(x_new)\n",
    "        \n",
    "        y_pew.to_csv('output.csv')\n",
    "        \n",
    "        if len(sys.argv) == 3 :\n",
    "            calls_new = init.calls_parser()\n",
    "            y_new = \n",
    "\n",
    "if __name__ == '__main__':\n",
    "    main()"
   ]
  }
 ],
 "metadata": {
  "kernelspec": {
   "display_name": "Python 3",
   "language": "python",
   "name": "python3"
  },
  "language_info": {
   "codemirror_mode": {
    "name": "ipython",
    "version": 3
   },
   "file_extension": ".py",
   "mimetype": "text/x-python",
   "name": "python",
   "nbconvert_exporter": "python",
   "pygments_lexer": "ipython3",
   "version": "3.9.5"
  }
 },
 "nbformat": 4,
 "nbformat_minor": 5
}
