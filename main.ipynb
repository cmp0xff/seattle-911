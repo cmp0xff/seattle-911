{
 "cells": [
  {
   "cell_type": "markdown",
   "id": "84309ab3-85fd-4a9b-ba2c-90778b3b9d64",
   "metadata": {},
   "source": [
    "# Machine Learning Assessment"
   ]
  },
  {
   "cell_type": "markdown",
   "id": "917cc457-0659-4bc7-a25c-a1b125cb4ced",
   "metadata": {},
   "source": [
    "## 1. Initialisation"
   ]
  },
  {
   "cell_type": "markdown",
   "id": "7de59d54-cc0b-4c77-8bc3-7b029f671b51",
   "metadata": {},
   "source": [
    "### 1.1. Initialiser"
   ]
  },
  {
   "cell_type": "markdown",
   "id": "d1896c1f-1ed4-4629-92ef-5a0d3d93b935",
   "metadata": {},
   "source": [
    "Import calls."
   ]
  },
  {
   "cell_type": "markdown",
   "id": "f9209632-9d79-47a1-8787-f542325826da",
   "metadata": {},
   "source": [
    "[Performance](https://pandas.pydata.org/pandas-docs/stable/user_guide/io.html#performance-considerations)"
   ]
  },
  {
   "cell_type": "code",
   "execution_count": 1,
   "id": "182914cb-e479-4ffb-96d6-1670782988d0",
   "metadata": {},
   "outputs": [
    {
     "name": "stdout",
     "output_type": "stream",
     "text": [
      "Overwriting init.py\n"
     ]
    }
   ],
   "source": [
    "%%writefile init.py\n",
    "\n",
    "import os\n",
    "import pandas as pd\n",
    "from time import process_time as timer\n",
    "\n",
    "def calls_parser(fname) :\n",
    "    print('Loading raw Seattle 911 calls database from ' + fname)\n",
    "    tim = timer()\n",
    "    calls_df = pd.read_csv(fname)\n",
    "    print('Raw Seattle 911 calls database loaded in ' + str(timer() - tim))\n",
    "\n",
    "    calls_df['Datetime'] = pd.to_datetime(calls_df['Datetime'],\\\n",
    "                                          format=\"%m/%d/%Y %I:%M:%S %p\"\\\n",
    "                                         ).dt.tz_localize(tz='US/Pacific',\\\n",
    "                                                          ambiguous='NaT')\n",
    "\n",
    "    calls_df.dropna(inplace=True)\n",
    "    calls_df.set_index('Datetime', inplace=True)\n",
    "    calls_df.index.set_names('datetime', inplace=True)\n",
    "    calls_df.sort_index(inplace=True)\n",
    "\n",
    "    return calls_df\n",
    "\n",
    "\n",
    "def init_calls() :\n",
    "    # Convert to pandas DataFrame\n",
    "    \n",
    "    calls_df_pt = './tmp/calls_df.parquet'\n",
    "    \n",
    "    if not os.path.exists('./tmp') :\n",
    "        os.system('mkdir tmp')\n",
    "    if os.path.isfile(calls_df_pt) :\n",
    "        print('Loading parsed Seattle 911 calls database from ' + str(calls_df_pt))\n",
    "        tim = timer()\n",
    "        calls_df = pd.read_parquet(calls_df_pt) # pd.read_hdf(calls_df_pt, key='c', mode='r')\n",
    "        print('Parsed Seattle 911 calls database loaded in ' + str(timer() - tim) + ' s')\n",
    "    else :\n",
    "        calls_pt = './data/calls.csv'\n",
    "    \n",
    "        if not os.path.exists(calls_pt) :\n",
    "            print('Downloading missing raw Seattle 911 calls database to ' + calls_pt)\n",
    "            os.system('cat get_calls.sh | sh')\n",
    "    \n",
    "        calls_df = calls_parser(calls_pt)\n",
    "\n",
    "        print('Saving parsed Seattle 911 calls database to ' + calls_df_pt)\n",
    "        tim = timer()\n",
    "        calls_df.to_parquet(calls_df_pt) # calls_df.to_hdf(calls_df_pt, key='c', mode='w')\n",
    "        print('Parsed Seattle 911 calls database saved in ' + str(timer() - tim) + ' s')\n",
    "\n",
    "        # results_df['type'] = results_df['type'].astype('category')\n",
    "    \n",
    "    return calls_df\n"
   ]
  },
  {
   "cell_type": "markdown",
   "id": "e967a4a6-d777-445b-91d7-e5caeb91911a",
   "metadata": {},
   "source": [
    "Import weather data."
   ]
  },
  {
   "cell_type": "code",
   "execution_count": 2,
   "id": "151cf118-95e2-4862-a36b-d13090946fcd",
   "metadata": {},
   "outputs": [
    {
     "name": "stdout",
     "output_type": "stream",
     "text": [
      "Appending to init.py\n"
     ]
    }
   ],
   "source": [
    "%%writefile -a init.py\n",
    "\n",
    "def weather_parser(fname) :\n",
    "    print('Loading raw Seattle weather database from ' + fname)\n",
    "    tim = timer()\n",
    "    wtr_df = pd.read_csv(fname)\n",
    "    print('Raw Seattle weather database loaded in ' + str(timer() - tim) + ' s')\n",
    "\n",
    "    wtr_df['datetime'] = pd.to_datetime(wtr_df['dt'], unit='s').\\\n",
    "                            dt.tz_localize(tz='UTC').\\\n",
    "                            dt.tz_convert('US/Pacific')\n",
    "    wtr_df.set_index('datetime', inplace=True)\n",
    "    \n",
    "    return(wtr_df)\n",
    "\n",
    "\n",
    "def init_weather() :\n",
    "    \n",
    "    wtr_df_pt = './tmp/wtr_df.parquet'\n",
    "    \n",
    "    if not os.path.exists('./tmp') :\n",
    "        os.system('mkdir tmp')\n",
    "    if os.path.isfile(wtr_df_pt) :\n",
    "        print('Loading parsed Seattle weather database from ' + str(wtr_df_pt))\n",
    "        tim = timer()\n",
    "        wtr_df = pd.read_parquet(wtr_df_pt) # wtr_df = pd.read_hdf(wtr_df_pt, key='w', mode='r')\n",
    "        # wtr_df.index.to_datetime().dt.tz_convert('US/Pacific')\n",
    "        print('Parsed Seattle weather database loaded in ' + str(timer() - tim) + ' s')\n",
    "    else :\n",
    "        wtr_df = weather_parser('./data/Seattle Weatherdata 2002 to 2020.csv')\n",
    "\n",
    "        wtr_df = wtr_df[~wtr_df.index.duplicated()]\n",
    "\n",
    "        print('Saving parsed Seattle weather database to ' + wtr_df_pt)\n",
    "        tim = timer()\n",
    "        wtr_df.to_parquet(wtr_df_pt) # wtr_df.to_hdf(wtr_df_pt, key='w', mode='w')\n",
    "        print('Parsed Seattle weather database saved in ' + str(timer() - tim) + ' s')\n",
    "\n",
    "    return(wtr_df)\n"
   ]
  },
  {
   "cell_type": "code",
   "execution_count": 3,
   "id": "74abc5ac-27cf-4bce-a9d5-5fa5910afe93",
   "metadata": {},
   "outputs": [
    {
     "name": "stdout",
     "output_type": "stream",
     "text": [
      "Appending to init.py\n"
     ]
    }
   ],
   "source": [
    "%%writefile -a init.py\n",
    "\n",
    "def feature_parser(wtr_df) :\n",
    "    x = wtr_df[['temp', 'temp_min', 'temp_max', 'pressure', 'humidity', 'wind_speed', 'wind_deg', 'weather_id']]\n",
    "    x.index.set_names('datetime', inplace=True)\n",
    "\n",
    "    x_tim = x.index.isocalendar()\n",
    "    x_tim['hour'] = x.index.hour\n",
    "    x = x_tim.join(x)\n",
    "\n",
    "    return x\n",
    "\n",
    "\n",
    "def y_parser(calls_df) :\n",
    "    y = calls_df['Incident Number'].resample('H').count().to_frame('incident_count')\n",
    "    y.index.set_names('datetime', inplace=True)\n",
    "    \n",
    "    return y\n",
    "\n",
    "\n",
    "def init() :\n",
    "    \n",
    "    xy_df_pt = './tmp/xy_df.parquet'\n",
    "    \n",
    "    if not os.path.exists('./tmp') :\n",
    "        os.system('mkdir tmp')\n",
    "    if os.path.isfile(xy_df_pt) :\n",
    "        print('Loading ML database from ' + str(xy_df_pt))\n",
    "        tim = timer()\n",
    "        xy_df = pd.read_parquet(xy_df_pt)\n",
    "        print('ML database loaded in ' + str(timer() - tim) + ' s')\n",
    "    else :\n",
    "        \n",
    "        tim = timer()\n",
    "        calls_df = init_calls()\n",
    "        wtr_df = init_weather()\n",
    "        \n",
    "        x_raw = feature_parser(wtr_df)\n",
    "\n",
    "        # x_raw.drop_duplicates(inplace=True)\n",
    "\n",
    "        y_raw = y_parser(calls_df)\n",
    "        xy_df = y_raw.join(x_raw).dropna()\n",
    "        # xy_df.index.set_names('datetime', inplace=True)\n",
    "        # xy_df['hour'] = xy_df.index.hour\n",
    "\n",
    "        xy_df.drop_duplicates(inplace=True)\n",
    "\n",
    "        print('Saving ML database to ' + xy_df_pt)\n",
    "        tim = timer()\n",
    "        xy_df.to_parquet(xy_df_pt) #, key='x', mode='w'\n",
    "        print('ML database saved in ' + str(timer() - tim) + ' s')\n",
    "\n",
    "    return xy_df.iloc[:, 1:], xy_df.iloc[:, 0]\n"
   ]
  },
  {
   "cell_type": "markdown",
   "id": "b815e3eb-8a67-4a5d-baab-d2ec26960385",
   "metadata": {},
   "source": [
    "### 1.2. Unit tester"
   ]
  },
  {
   "cell_type": "code",
   "execution_count": 4,
   "id": "2e75beaa-dc26-4748-b5ed-c7fc82ace656",
   "metadata": {},
   "outputs": [
    {
     "name": "stdout",
     "output_type": "stream",
     "text": [
      "Overwriting init_te.py\n"
     ]
    }
   ],
   "source": [
    "%%writefile init_te.py\n",
    "\n",
    "from time import process_time as timer\n",
    "\n",
    "import init\n",
    "from importlib import reload\n",
    "\n",
    "def calls_te() :\n",
    "\n",
    "    reload(init)\n",
    "    \n",
    "    print('Testing calls parsing from given database')\n",
    "\n",
    "    tim = timer()\n",
    "    calls_df = init.init_calls()\n",
    "    print(calls_df.info())\n",
    "    print(calls_df.head(1))\n",
    "    # print(calls_df.tail(2))\n",
    "    # print(calls_df.iloc[calls_df.index.duplicated()])\n",
    "    \n",
    "    print('Testing calls parsing from given database successful in '+ str(timer() - tim) + ' s')\n"
   ]
  },
  {
   "cell_type": "code",
   "execution_count": 5,
   "id": "79e471f3-cfa5-424a-bf3b-c0ec201cd59c",
   "metadata": {},
   "outputs": [
    {
     "name": "stdout",
     "output_type": "stream",
     "text": [
      "Appending to init_te.py\n"
     ]
    }
   ],
   "source": [
    "%%writefile -a init_te.py\n",
    "\n",
    "def weather_te() :\n",
    "\n",
    "    reload(init)\n",
    "\n",
    "    print('Testing weather parsing from given database')\n",
    "    \n",
    "    tim = timer()\n",
    "    wtr_df = init.init_weather()\n",
    "    print(wtr_df.info())\n",
    "    print(wtr_df.head(1))\n",
    "    print(wtr_df.tail(1))\n",
    "    # print(wtr_df.iloc[wtr_df.index.duplicated(keep=False)])\n",
    "    \n",
    "    print('Testing weather parsing from given database successful in '+ str(timer() - tim) + ' s')\n"
   ]
  },
  {
   "cell_type": "code",
   "execution_count": 6,
   "id": "6ef83ff2-9db7-44bd-a2f6-6d211bdb9552",
   "metadata": {},
   "outputs": [
    {
     "name": "stdout",
     "output_type": "stream",
     "text": [
      "Appending to init_te.py\n"
     ]
    }
   ],
   "source": [
    "%%writefile -a init_te.py\n",
    "\n",
    "def init_te() :\n",
    "\n",
    "    reload(init)\n",
    "    \n",
    "    print('Testing database initialisation from given databases')\n",
    "\n",
    "    tim = timer()\n",
    "    x, y = init.init()\n",
    "    print(x.info())\n",
    "    print(x.head(1))\n",
    "    print(y.head(1))\n",
    "    # print(x.iloc[x.index.duplicated(keep=False)])\n",
    "    \n",
    "    print('Testing database initialisation from given databases successful in '+ str(timer() - tim) + ' s')\n"
   ]
  },
  {
   "cell_type": "markdown",
   "id": "db7039d8-6c23-412d-825a-d53831d11455",
   "metadata": {},
   "source": [
    "### 1.3. Unit test"
   ]
  },
  {
   "cell_type": "code",
   "execution_count": 7,
   "id": "a6b8e1a6-5262-48c3-ae60-bbfc2e708768",
   "metadata": {},
   "outputs": [],
   "source": [
    "import init_te\n",
    "from importlib import reload"
   ]
  },
  {
   "cell_type": "code",
   "execution_count": 8,
   "id": "0a3908e6-6456-4ab4-b61f-793ebf6080ba",
   "metadata": {},
   "outputs": [
    {
     "name": "stdout",
     "output_type": "stream",
     "text": [
      "Testing calls parsing from given database\n",
      "Downloading missing raw Seattle 911 calls database to ./data/calls.csv\n",
      "Raw Seattle 911 calls database downloaded in 0.011122253000000137 s\n",
      "Loading raw Seattle 911 calls database from ./data/calls.csv\n",
      "Raw Seattle 911 calls database loaded in 2.428747895\n",
      "Saving parsed Seattle 911 calls database to ./tmp/calls_df.parquet\n",
      "Parsed Seattle 911 calls database saved in 2.1491194579999995 s\n",
      "<class 'pandas.core.frame.DataFrame'>\n",
      "DatetimeIndex: 1561041 entries, 2003-11-07 09:30:48-08:00 to 2021-05-20 02:41:00-07:00\n",
      "Data columns (total 6 columns):\n",
      " #   Column           Non-Null Count    Dtype  \n",
      "---  ------           --------------    -----  \n",
      " 0   Address          1561041 non-null  object \n",
      " 1   Type             1561041 non-null  object \n",
      " 2   Latitude         1561041 non-null  float64\n",
      " 3   Longitude        1561041 non-null  float64\n",
      " 4   Report Location  1561041 non-null  object \n",
      " 5   Incident Number  1561041 non-null  object \n",
      "dtypes: float64(2), object(4)\n",
      "memory usage: 83.4+ MB\n",
      "None\n",
      "                                   Address            Type   Latitude  \\\n",
      "datetime                                                                \n",
      "2003-11-07 09:30:48-08:00  507 W Mercer St  Medic Response  47.624608   \n",
      "\n",
      "                            Longitude                Report Location  \\\n",
      "datetime                                                               \n",
      "2003-11-07 09:30:48-08:00 -122.363505  POINT (-122.363505 47.624608)   \n",
      "\n",
      "                          Incident Number  \n",
      "datetime                                   \n",
      "2003-11-07 09:30:48-08:00      F030080834  \n",
      "Testing calls parsing from given database successful in 9.173998143 s\n"
     ]
    }
   ],
   "source": [
    "reload(init_te)\n",
    "init_te.calls_te()"
   ]
  },
  {
   "cell_type": "code",
   "execution_count": 9,
   "id": "b58bc0d1-29d6-41bc-a4aa-ea53e73e6120",
   "metadata": {},
   "outputs": [
    {
     "name": "stdout",
     "output_type": "stream",
     "text": [
      "Testing weather parsing from given database\n",
      "Loading raw Seattle weather database from ./data/Seattle Weatherdata 2002 to 2020.csv\n",
      "Raw Seattle weather database loaded in 0.2906803290000006 s\n",
      "Saving parsed Seattle weather database to ./tmp/wtr_df.parquet\n",
      "Parsed Seattle weather database saved in 0.203768878 s\n",
      "<class 'pandas.core.frame.DataFrame'>\n",
      "DatetimeIndex: 165192 entries, 2001-12-31 16:00:00-08:00 to 2020-11-04 15:00:00-08:00\n",
      "Data columns (total 25 columns):\n",
      " #   Column               Non-Null Count   Dtype  \n",
      "---  ------               --------------   -----  \n",
      " 0   dt                   165192 non-null  int64  \n",
      " 1   dt_iso               165192 non-null  object \n",
      " 2   timezone             165192 non-null  int64  \n",
      " 3   city_name            165192 non-null  object \n",
      " 4   lat                  165192 non-null  float64\n",
      " 5   lon                  165192 non-null  float64\n",
      " 6   temp                 165192 non-null  float64\n",
      " 7   feels_like           165192 non-null  float64\n",
      " 8   temp_min             165192 non-null  float64\n",
      " 9   temp_max             165192 non-null  float64\n",
      " 10  pressure             165192 non-null  int64  \n",
      " 11  sea_level            0 non-null       float64\n",
      " 12  grnd_level           0 non-null       float64\n",
      " 13  humidity             165192 non-null  int64  \n",
      " 14  wind_speed           165192 non-null  float64\n",
      " 15  wind_deg             165192 non-null  int64  \n",
      " 16  rain_1h              28623 non-null   float64\n",
      " 17  rain_3h              3833 non-null    float64\n",
      " 18  snow_1h              515 non-null     float64\n",
      " 19  snow_3h              58 non-null      float64\n",
      " 20  clouds_all           165192 non-null  int64  \n",
      " 21  weather_id           165192 non-null  int64  \n",
      " 22  weather_main         165192 non-null  object \n",
      " 23  weather_description  165192 non-null  object \n",
      " 24  weather_icon         165192 non-null  object \n",
      "dtypes: float64(13), int64(7), object(5)\n",
      "memory usage: 32.8+ MB\n",
      "None\n",
      "                                   dt                         dt_iso  \\\n",
      "datetime                                                               \n",
      "2001-12-31 16:00:00-08:00  1009843200  2002-01-01 00:00:00 +0000 UTC   \n",
      "\n",
      "                           timezone city_name        lat         lon  temp  \\\n",
      "datetime                                                                     \n",
      "2001-12-31 16:00:00-08:00    -28800   Seattle  47.606209 -122.332071  9.21   \n",
      "\n",
      "                           feels_like  temp_min  temp_max  ...  wind_deg  \\\n",
      "datetime                                                   ...             \n",
      "2001-12-31 16:00:00-08:00        6.88      6.63      11.0  ...        40   \n",
      "\n",
      "                           rain_1h  rain_3h  snow_1h  snow_3h  clouds_all  \\\n",
      "datetime                                                                    \n",
      "2001-12-31 16:00:00-08:00      NaN      NaN      NaN      NaN          75   \n",
      "\n",
      "                           weather_id  weather_main  weather_description  \\\n",
      "datetime                                                                   \n",
      "2001-12-31 16:00:00-08:00         803        Clouds        broken clouds   \n",
      "\n",
      "                           weather_icon  \n",
      "datetime                                 \n",
      "2001-12-31 16:00:00-08:00           04d  \n",
      "\n",
      "[1 rows x 25 columns]\n",
      "                                   dt                         dt_iso  \\\n",
      "datetime                                                               \n",
      "2020-11-04 15:00:00-08:00  1604530800  2020-11-04 23:00:00 +0000 UTC   \n",
      "\n",
      "                           timezone city_name        lat         lon   temp  \\\n",
      "datetime                                                                      \n",
      "2020-11-04 15:00:00-08:00    -28800   Seattle  47.606209 -122.332071  16.97   \n",
      "\n",
      "                           feels_like  temp_min  temp_max  ...  wind_deg  \\\n",
      "datetime                                                   ...             \n",
      "2020-11-04 15:00:00-08:00       13.31     15.56     18.33  ...       180   \n",
      "\n",
      "                           rain_1h  rain_3h  snow_1h  snow_3h  clouds_all  \\\n",
      "datetime                                                                    \n",
      "2020-11-04 15:00:00-08:00     0.25      NaN      NaN      NaN          90   \n",
      "\n",
      "                           weather_id  weather_main  weather_description  \\\n",
      "datetime                                                                   \n",
      "2020-11-04 15:00:00-08:00         500          Rain           light rain   \n",
      "\n",
      "                           weather_icon  \n",
      "datetime                                 \n",
      "2020-11-04 15:00:00-08:00           10d  \n",
      "\n",
      "[1 rows x 25 columns]\n",
      "Testing weather parsing from given database successful in 0.5608657059999995 s\n"
     ]
    }
   ],
   "source": [
    "reload(init_te)\n",
    "init_te.weather_te()"
   ]
  },
  {
   "cell_type": "code",
   "execution_count": 10,
   "id": "79ccb2c6-8939-4c36-a115-a5b643c2c14a",
   "metadata": {},
   "outputs": [
    {
     "name": "stdout",
     "output_type": "stream",
     "text": [
      "Testing database initialisation from given databases\n",
      "Loading parsed Seattle 911 calls database from ./tmp/calls_df.parquet\n",
      "Parsed Seattle 911 calls database loaded in 0.5352095400000003 s\n",
      "Loading parsed Seattle weather database from ./tmp/wtr_df.parquet\n",
      "Parsed Seattle weather database loaded in 0.072663072000001 s\n",
      "Saving ML database to ./tmp/xy_df.parquet\n",
      "ML database saved in 0.03881450599999958 s\n",
      "<class 'pandas.core.frame.DataFrame'>\n",
      "DatetimeIndex: 148975 entries, 2003-11-07 09:00:00-08:00 to 2020-11-04 15:00:00-08:00\n",
      "Freq: H\n",
      "Data columns (total 12 columns):\n",
      " #   Column      Non-Null Count   Dtype  \n",
      "---  ------      --------------   -----  \n",
      " 0   year        148975 non-null  UInt32 \n",
      " 1   week        148975 non-null  UInt32 \n",
      " 2   day         148975 non-null  UInt32 \n",
      " 3   hour        148975 non-null  float64\n",
      " 4   temp        148975 non-null  float64\n",
      " 5   temp_min    148975 non-null  float64\n",
      " 6   temp_max    148975 non-null  float64\n",
      " 7   pressure    148975 non-null  float64\n",
      " 8   humidity    148975 non-null  float64\n",
      " 9   wind_speed  148975 non-null  float64\n",
      " 10  wind_deg    148975 non-null  float64\n",
      " 11  weather_id  148975 non-null  float64\n",
      "dtypes: UInt32(3), float64(9)\n",
      "memory usage: 13.5 MB\n",
      "None\n",
      "                           year  week  day  hour  temp  temp_min  temp_max  \\\n",
      "datetime                                                                     \n",
      "2003-11-07 09:00:00-08:00  2003    45    5   9.0  5.62      4.66       6.0   \n",
      "\n",
      "                           pressure  humidity  wind_speed  wind_deg  \\\n",
      "datetime                                                              \n",
      "2003-11-07 09:00:00-08:00    1018.0      65.0         2.1     320.0   \n",
      "\n",
      "                           weather_id  \n",
      "datetime                               \n",
      "2003-11-07 09:00:00-08:00       802.0  \n",
      "datetime\n",
      "2003-11-07 09:00:00-08:00    5\n",
      "Freq: H, Name: incident_count, dtype: int64\n",
      "Testing database initialisation from given databases successful in 0.9980966940000009 s\n"
     ]
    }
   ],
   "source": [
    "reload(init_te)\n",
    "init_te.init_te()"
   ]
  },
  {
   "cell_type": "markdown",
   "id": "2216523b-dba7-4c21-a515-f98386af2f38",
   "metadata": {},
   "source": [
    "## 2. Preprocessing"
   ]
  },
  {
   "cell_type": "markdown",
   "id": "4060150d-6c54-4d55-adec-1f7ec071513b",
   "metadata": {},
   "source": [
    "### 2.1. Preprocessor"
   ]
  },
  {
   "cell_type": "code",
   "execution_count": 11,
   "id": "60db8efe-7edf-46db-816f-d8456dbbe206",
   "metadata": {},
   "outputs": [
    {
     "name": "stdout",
     "output_type": "stream",
     "text": [
      "Overwriting prep.py\n"
     ]
    }
   ],
   "source": [
    "%%writefile prep.py\n",
    "\n",
    "import pandas as pd\n",
    "import numpy as np\n",
    "\n",
    "from sklearn.pipeline import Pipeline\n",
    "import sklearn.preprocessing as skl_prep\n",
    "from sklearn.model_selection import TimeSeriesSplit\n",
    "\n",
    "def fwd_splitter(n_spi=2, tr_week=261, te_week=52) :\n",
    "    return TimeSeriesSplit(n_splits=n_spi, max_train_size=tr_week*7*24, test_size=te_week*7*24)\n"
   ]
  },
  {
   "cell_type": "code",
   "execution_count": 12,
   "id": "a2f22e60-57ef-4571-821e-45d9779fe59e",
   "metadata": {},
   "outputs": [
    {
     "name": "stdout",
     "output_type": "stream",
     "text": [
      "Appending to prep.py\n"
     ]
    }
   ],
   "source": [
    "%%writefile -a prep.py\n",
    "\n",
    "def nai_splitter() :\n",
    "    e1_ind = -365*24\n",
    "    tr_ind = (-365*5-1)*24+e1_ind\n",
    "    e2_ind = (-365*5-1)*24+2*e1_ind\n",
    "    return np.arange(tr_ind, e1_ind), np.arange(e1_ind, 0), np.arange(e2_ind, tr_ind)\n"
   ]
  },
  {
   "cell_type": "code",
   "execution_count": 13,
   "id": "a1283c24-ac45-45ce-b70f-0a202d08253a",
   "metadata": {},
   "outputs": [
    {
     "name": "stdout",
     "output_type": "stream",
     "text": [
      "Appending to prep.py\n"
     ]
    }
   ],
   "source": [
    "%%writefile -a prep.py\n",
    "\n",
    "def prep_ppl() :\n",
    "    return(Pipeline([\n",
    "        ('std_scl', skl_prep.StandardScaler())\n",
    "    ]))\n"
   ]
  },
  {
   "cell_type": "markdown",
   "id": "b597e549-19e9-4060-836d-b34f0a21d795",
   "metadata": {},
   "source": [
    "### 2.2. Unit tester"
   ]
  },
  {
   "cell_type": "code",
   "execution_count": 14,
   "id": "26cf7d96-e4f9-434d-9f74-1b79e33dccfe",
   "metadata": {},
   "outputs": [
    {
     "name": "stdout",
     "output_type": "stream",
     "text": [
      "Overwriting prep_te.py\n"
     ]
    }
   ],
   "source": [
    "%%writefile prep_te.py\n",
    "\n",
    "import init\n",
    "import prep\n",
    "from importlib import reload\n"
   ]
  },
  {
   "cell_type": "code",
   "execution_count": 15,
   "id": "a8547d58-77a5-4a1a-a4ed-a59690a8f4c3",
   "metadata": {},
   "outputs": [
    {
     "name": "stdout",
     "output_type": "stream",
     "text": [
      "Appending to prep_te.py\n"
     ]
    }
   ],
   "source": [
    "%%writefile -a prep_te.py\n",
    "\n",
    "def fwe_te() :\n",
    "\n",
    "    reload(init)\n",
    "    reload(prep)\n",
    "\n",
    "    x, y = init.init()\n",
    "    for tr_ind, te_ind in prep.fwd_splitter().split(x) :\n",
    "        print(x.iloc[tr_ind].info(), y.iloc[te_ind].head(2), len(y))\n"
   ]
  },
  {
   "cell_type": "code",
   "execution_count": 16,
   "id": "bb1b2baa-0ba8-49a5-8980-31aea9162bbb",
   "metadata": {},
   "outputs": [
    {
     "name": "stdout",
     "output_type": "stream",
     "text": [
      "Appending to prep_te.py\n"
     ]
    }
   ],
   "source": [
    "%%writefile -a prep_te.py\n",
    "\n",
    "def nai_te() :\n",
    "\n",
    "    reload(init)\n",
    "    reload(prep)\n",
    "\n",
    "    x, y = init.init()\n",
    "    tr_ind, e1_ind, e2_ind = prep.nai_splitter()\n",
    "\n",
    "    print(tr_ind, e1_ind, e2_ind)\n",
    "    print(x.iloc[tr_ind].info(), y.iloc[e1_ind].head(2), y.iloc[e2_ind].head(2),)\n"
   ]
  },
  {
   "cell_type": "markdown",
   "id": "dbd99bbd-0474-4a73-8a40-5b66369da0f5",
   "metadata": {},
   "source": [
    "### 2.3. Unit test"
   ]
  },
  {
   "cell_type": "code",
   "execution_count": 17,
   "id": "ce157237-1cf5-4544-9d70-f45752812dd0",
   "metadata": {},
   "outputs": [],
   "source": [
    "import prep_te\n",
    "from importlib import reload"
   ]
  },
  {
   "cell_type": "code",
   "execution_count": 18,
   "id": "e26e889d-920e-41cf-afbc-c661a7752158",
   "metadata": {},
   "outputs": [
    {
     "name": "stdout",
     "output_type": "stream",
     "text": [
      "Loading ML database from ./tmp/xy_df.parquet\n",
      "ML database loaded in 0.027500543000000377 s\n",
      "<class 'pandas.core.frame.DataFrame'>\n",
      "DatetimeIndex: 43848 entries, 2013-11-06 16:00:00-08:00 to 2018-11-07 15:00:00-08:00\n",
      "Data columns (total 12 columns):\n",
      " #   Column      Non-Null Count  Dtype  \n",
      "---  ------      --------------  -----  \n",
      " 0   year        43848 non-null  uint32 \n",
      " 1   week        43848 non-null  uint32 \n",
      " 2   day         43848 non-null  uint32 \n",
      " 3   hour        43848 non-null  float64\n",
      " 4   temp        43848 non-null  float64\n",
      " 5   temp_min    43848 non-null  float64\n",
      " 6   temp_max    43848 non-null  float64\n",
      " 7   pressure    43848 non-null  float64\n",
      " 8   humidity    43848 non-null  float64\n",
      " 9   wind_speed  43848 non-null  float64\n",
      " 10  wind_deg    43848 non-null  float64\n",
      " 11  weather_id  43848 non-null  float64\n",
      "dtypes: float64(9), uint32(3)\n",
      "memory usage: 3.8 MB\n",
      "None datetime\n",
      "2018-11-07 16:00:00-08:00    19\n",
      "2018-11-07 17:00:00-08:00    20\n",
      "Name: incident_count, dtype: int64 148975\n",
      "<class 'pandas.core.frame.DataFrame'>\n",
      "DatetimeIndex: 43848 entries, 2014-11-05 16:00:00-08:00 to 2019-11-06 15:00:00-08:00\n",
      "Data columns (total 12 columns):\n",
      " #   Column      Non-Null Count  Dtype  \n",
      "---  ------      --------------  -----  \n",
      " 0   year        43848 non-null  uint32 \n",
      " 1   week        43848 non-null  uint32 \n",
      " 2   day         43848 non-null  uint32 \n",
      " 3   hour        43848 non-null  float64\n",
      " 4   temp        43848 non-null  float64\n",
      " 5   temp_min    43848 non-null  float64\n",
      " 6   temp_max    43848 non-null  float64\n",
      " 7   pressure    43848 non-null  float64\n",
      " 8   humidity    43848 non-null  float64\n",
      " 9   wind_speed  43848 non-null  float64\n",
      " 10  wind_deg    43848 non-null  float64\n",
      " 11  weather_id  43848 non-null  float64\n",
      "dtypes: float64(9), uint32(3)\n",
      "memory usage: 3.8 MB\n",
      "None datetime\n",
      "2019-11-06 16:00:00-08:00    23\n",
      "2019-11-06 17:00:00-08:00    16\n",
      "Name: incident_count, dtype: int64 148975\n"
     ]
    }
   ],
   "source": [
    "reload(prep_te)\n",
    "prep_te.fwe_te()"
   ]
  },
  {
   "cell_type": "code",
   "execution_count": 19,
   "id": "0c1740d5-5999-4770-b4c6-6fbc3306c7bc",
   "metadata": {},
   "outputs": [
    {
     "name": "stdout",
     "output_type": "stream",
     "text": [
      "Loading ML database from ./tmp/xy_df.parquet\n",
      "ML database loaded in 0.01679743900000119 s\n",
      "[-52584 -52583 -52582 ...  -8763  -8762  -8761] [-8760 -8759 -8758 ...    -3    -2    -1] [-61344 -61343 -61342 ... -52587 -52586 -52585]\n",
      "<class 'pandas.core.frame.DataFrame'>\n",
      "DatetimeIndex: 43824 entries, 2014-11-05 16:00:00-08:00 to 2019-11-05 15:00:00-08:00\n",
      "Data columns (total 12 columns):\n",
      " #   Column      Non-Null Count  Dtype  \n",
      "---  ------      --------------  -----  \n",
      " 0   year        43824 non-null  uint32 \n",
      " 1   week        43824 non-null  uint32 \n",
      " 2   day         43824 non-null  uint32 \n",
      " 3   hour        43824 non-null  float64\n",
      " 4   temp        43824 non-null  float64\n",
      " 5   temp_min    43824 non-null  float64\n",
      " 6   temp_max    43824 non-null  float64\n",
      " 7   pressure    43824 non-null  float64\n",
      " 8   humidity    43824 non-null  float64\n",
      " 9   wind_speed  43824 non-null  float64\n",
      " 10  wind_deg    43824 non-null  float64\n",
      " 11  weather_id  43824 non-null  float64\n",
      "dtypes: float64(9), uint32(3)\n",
      "memory usage: 3.8 MB\n",
      "None datetime\n",
      "2019-11-05 16:00:00-08:00    19\n",
      "2019-11-05 17:00:00-08:00    15\n",
      "Name: incident_count, dtype: int64 datetime\n",
      "2013-11-05 16:00:00-08:00    10\n",
      "2013-11-05 17:00:00-08:00    19\n",
      "Name: incident_count, dtype: int64\n"
     ]
    }
   ],
   "source": [
    "reload(prep_te)\n",
    "prep_te.nai_te()"
   ]
  },
  {
   "cell_type": "markdown",
   "id": "d9b07ea8-e2fa-4741-a657-410f7697ecb2",
   "metadata": {},
   "source": [
    "## 3. Modelling"
   ]
  },
  {
   "cell_type": "markdown",
   "id": "86d8ee52-1cf3-4e23-868e-5bd5c4cdcc31",
   "metadata": {},
   "source": [
    "### 3.1. Estimator"
   ]
  },
  {
   "cell_type": "code",
   "execution_count": 20,
   "id": "99a951d5-b3ad-4df4-a752-697d93c3031f",
   "metadata": {},
   "outputs": [
    {
     "name": "stdout",
     "output_type": "stream",
     "text": [
      "Overwriting model.py\n"
     ]
    }
   ],
   "source": [
    "%%writefile model.py\n",
    "\n",
    "from sklearn.pipeline import Pipeline\n",
    "# from sklearn.linear_model import LinearRegression\n",
    "from sklearn.ensemble import GradientBoostingRegressor\n",
    "\n",
    "import prep\n",
    "\n",
    "def model_ppl(rseed=0) :\n",
    "    return Pipeline([\n",
    "        ('preprocessor', prep.prep_ppl()),\n",
    "        ('regressor', GradientBoostingRegressor(random_state=rseed))\n",
    "    ])\n",
    "    "
   ]
  },
  {
   "cell_type": "markdown",
   "id": "74dc5a7f-27c0-427d-b5e5-56621dace56a",
   "metadata": {},
   "source": [
    "### 3.2. Unit tester"
   ]
  },
  {
   "cell_type": "code",
   "execution_count": 21,
   "id": "78ee0dd5-f94d-4381-b131-8be9158b2d76",
   "metadata": {},
   "outputs": [
    {
     "name": "stdout",
     "output_type": "stream",
     "text": [
      "Overwriting pred_te.py\n"
     ]
    }
   ],
   "source": [
    "%%writefile pred_te.py\n",
    "\n",
    "import numpy as np\n",
    "import pandas as pd\n",
    "import matplotlib.pyplot as plt\n",
    "from sklearn.metrics import mean_squared_error\n",
    "\n",
    "\n",
    "def printer(x, y, te_ind, mod) :\n",
    "    print('Testing Gradient Boosting Regressor with .iloc[' + str(te_ind[0]) + ', ' + str(te_ind[-1]) + ']')\n",
    "\n",
    "    y_pd = mod.predict(x.iloc[te_ind])\n",
    "\n",
    "    print('Score: ' + str(mod.score(x.iloc[te_ind], y.iloc[te_ind])))\n",
    "    print('R^2: ' + str(np.sqrt(mean_squared_error(y.iloc[te_ind], y_pd))))\n",
    "\n",
    "    pd.DataFrame(data=y_pd, \n",
    "                 index=y.iloc[te_ind].index, \n",
    "                 columns=['prediction']).join(y.iloc[te_ind]).resample('W').sum().plot()\n",
    "    plt.title('Gradient Boosting Regressor with .iloc[' + str(te_ind[0]) + ':' + str(te_ind[-1]) + ']')\n",
    "    plt.show()"
   ]
  },
  {
   "cell_type": "code",
   "execution_count": 22,
   "id": "4c350447-f613-48c6-8e64-b43dc5c7c6a1",
   "metadata": {},
   "outputs": [
    {
     "name": "stdout",
     "output_type": "stream",
     "text": [
      "Overwriting model_te.py\n"
     ]
    }
   ],
   "source": [
    "%%writefile model_te.py\n",
    "\n",
    "import numpy as np\n",
    "import pandas as pd\n",
    "from time import process_time as timer\n",
    "import matplotlib.pyplot as plt\n",
    "from sklearn.pipeline import Pipeline\n",
    "from sklearn.metrics import mean_squared_error\n",
    "\n",
    "import init\n",
    "import prep\n",
    "import model\n",
    "import pred_te\n",
    "from importlib import reload\n",
    "\n",
    "\n",
    "def model_fwd_te(n_spi=2) :\n",
    "\n",
    "    reload(init)\n",
    "    reload(prep)\n",
    "    reload(model)\n",
    "    reload(pred_te)\n",
    "\n",
    "    x, y = init.init()\n",
    "\n",
    "    mod = model.model_ppl()\n",
    "\n",
    "    print('Model parameters: ' + str(mod.get_params()))\n",
    "\n",
    "    for tr_ind, te_ind in prep.fwd_splitter(n_spi=n_spi).split(x) :\n",
    "        x_tr, y_tr = x.iloc[tr_ind], y.iloc[tr_ind]\n",
    "\n",
    "        print('Training Gradient Boosting Regressor with .iloc[' + str(tr_ind[0]) + ':' + str(tr_ind[-1]) + ']')\n",
    "        tim = timer()\n",
    "        mod.fit(x_tr, y_tr)\n",
    "        print('Training Gradient Boosting Regressor successful in ' + str(timer() - tim) + ' s')\n",
    "\n",
    "        pred_te.printer(x, y, te_ind, mod)\n",
    "\n",
    "def model_nai_te() :\n",
    "\n",
    "    reload(init)\n",
    "    reload(prep)\n",
    "    reload(model)\n",
    "    reload(pred_te)\n",
    "\n",
    "    x, y = init.init()\n",
    "\n",
    "    mod = model.model_ppl()\n",
    "    \n",
    "    print('Model parameters: ' + str(mod.get_params()))\n",
    "\n",
    "    x, y = init.init()\n",
    "    tr_ind, e1_ind, e2_ind = prep.nai_splitter()\n",
    "\n",
    "    print('Training Gradient Boosting Regressor with .iloc[' + str(tr_ind[0]) + ':' + str(tr_ind[-1]) + ']')\n",
    "    tim = timer()\n",
    "    mod.fit(x.iloc[tr_ind], y.iloc[tr_ind])\n",
    "    print('Training Gradient Boosting Regressor successful in ' + str(timer() - tim) + ' s')\n",
    "\n",
    "    pred_te.printer(x, y, e1_ind, mod)\n",
    "    pred_te.printer(x, y, e2_ind, mod)"
   ]
  },
  {
   "cell_type": "markdown",
   "id": "5f6bf0e0-4c64-4de1-a9dd-bf86645ded4f",
   "metadata": {},
   "source": [
    "### 3.3. Unit test"
   ]
  },
  {
   "cell_type": "code",
   "execution_count": 23,
   "id": "45da179c-a319-47e1-b0af-25c1674bf043",
   "metadata": {},
   "outputs": [
    {
     "name": "stdout",
     "output_type": "stream",
     "text": [
      "Loading ML database from ./tmp/xy_df.parquet\n",
      "ML database loaded in 0.028308266999999887 s\n",
      "Model parameters: {'memory': None, 'steps': [('preprocessor', Pipeline(steps=[('std_scl', StandardScaler())])), ('regressor', GradientBoostingRegressor(random_state=0))], 'verbose': False, 'preprocessor': Pipeline(steps=[('std_scl', StandardScaler())]), 'regressor': GradientBoostingRegressor(random_state=0), 'preprocessor__memory': None, 'preprocessor__steps': [('std_scl', StandardScaler())], 'preprocessor__verbose': False, 'preprocessor__std_scl': StandardScaler(), 'preprocessor__std_scl__copy': True, 'preprocessor__std_scl__with_mean': True, 'preprocessor__std_scl__with_std': True, 'regressor__alpha': 0.9, 'regressor__ccp_alpha': 0.0, 'regressor__criterion': 'friedman_mse', 'regressor__init': None, 'regressor__learning_rate': 0.1, 'regressor__loss': 'ls', 'regressor__max_depth': 3, 'regressor__max_features': None, 'regressor__max_leaf_nodes': None, 'regressor__min_impurity_decrease': 0.0, 'regressor__min_impurity_split': None, 'regressor__min_samples_leaf': 1, 'regressor__min_samples_split': 2, 'regressor__min_weight_fraction_leaf': 0.0, 'regressor__n_estimators': 100, 'regressor__n_iter_no_change': None, 'regressor__random_state': 0, 'regressor__subsample': 1.0, 'regressor__tol': 0.0001, 'regressor__validation_fraction': 0.1, 'regressor__verbose': 0, 'regressor__warm_start': False}\n",
      "Loading ML database from ./tmp/xy_df.parquet\n",
      "ML database loaded in 0.015167598999999754 s\n",
      "Training Gradient Boosting Regressor with .iloc[-52584:-8761]\n",
      "Training Gradient Boosting Regressor successful in 5.2912766940000004 s\n",
      "Testing Gradient Boosting Regressor with .iloc[-8760, -1]\n",
      "Score: 0.37802521118809274\n",
      "R^2: 3.735221984889422\n"
     ]
    },
    {
     "data": {
      "text/plain": [
       "<matplotlib.figure.Figure at 0x7f344fe864e0>"
      ]
     },
     "metadata": {},
     "output_type": "display_data"
    },
    {
     "name": "stdout",
     "output_type": "stream",
     "text": [
      "Testing Gradient Boosting Regressor with .iloc[-61344, -52585]\n",
      "Score: 0.4348333512054584\n",
      "R^2: 3.6970752624894647\n"
     ]
    },
    {
     "data": {
      "text/plain": [
       "<matplotlib.figure.Figure at 0x7f34467a4898>"
      ]
     },
     "metadata": {},
     "output_type": "display_data"
    }
   ],
   "source": [
    "import model_te\n",
    "from importlib import reload\n",
    "\n",
    "reload(model_te)\n",
    "\n",
    "model_te.model_nai_te()"
   ]
  },
  {
   "cell_type": "code",
   "execution_count": 24,
   "id": "5f8864fd-1fcf-4c01-9aa4-31a31e78e791",
   "metadata": {},
   "outputs": [],
   "source": [
    "# import model_te\n",
    "# from importlib import reload\n",
    "\n",
    "# reload(model_te)\n",
    "\n",
    "# model_te.model_fwd_te(2)"
   ]
  },
  {
   "cell_type": "markdown",
   "id": "5622d6cd-922b-4b42-913e-a901de79d446",
   "metadata": {},
   "source": [
    "## 4. Training"
   ]
  },
  {
   "cell_type": "markdown",
   "id": "b406676a-dc9d-4d3b-a967-1b95ec941337",
   "metadata": {},
   "source": [
    "### 4.1. Alchemist"
   ]
  },
  {
   "cell_type": "markdown",
   "id": "3185b8ac-070d-4cfa-beb2-29f02aafaf76",
   "metadata": {},
   "source": [
    "[parameters](https://stackoverflow.com/a/49501713/2682621)"
   ]
  },
  {
   "cell_type": "code",
   "execution_count": 28,
   "id": "675d90c8-fc73-41fc-8bd6-1ba0d08ea6d4",
   "metadata": {},
   "outputs": [
    {
     "name": "stdout",
     "output_type": "stream",
     "text": [
      "Overwriting train.py\n"
     ]
    }
   ],
   "source": [
    "%%writefile train.py\n",
    "\n",
    "import os\n",
    "from sklearn.model_selection import GridSearchCV\n",
    "from time import process_time as timer\n",
    "import joblib\n",
    "\n",
    "import init\n",
    "import prep\n",
    "import model\n",
    "\n",
    "def train() :\n",
    "\n",
    "    if not os.path.exists('./tmp') :\n",
    "        os.system('mkdir tmp')\n",
    "\n",
    "    train_pt = './tmp/reg.pkl'\n",
    "    if os.path.isfile(train_pt) :\n",
    "        reg = joblib.load(train_pt)\n",
    "        print('Regressor loaded from ' + train_pt)\n",
    "    else:\n",
    "        x, y = init.init()\n",
    "        tr_ind, e1_ind, e2_ind = prep.nai_splitter()\n",
    "    \n",
    "        p_grid = {\n",
    "            'regressor__learning_rate': [.5, .25, .1, .05, .01],\n",
    "            'regressor__n_estimators': [25, 50, 100, 200, 400],\n",
    "            'regressor__max_depth': [3, 4, 5]\n",
    "        }\n",
    "\n",
    "        tim = timer()\n",
    "        reg = GridSearchCV(estimator=model.model_ppl(),\n",
    "                           param_grid=p_grid,\n",
    "                           n_jobs=-1,\n",
    "                           verbose=2)\n",
    "\n",
    "        print('Cross validating by Grid Search')\n",
    "        reg.fit(x.iloc[tr_ind], y.iloc[tr_ind])\n",
    "        # print('Cross validating by Grid Search successful in ' + str(timer() - tim) + ' s')\n",
    "\n",
    "        joblib.dump(reg, train_pt)\n",
    "        print('Regressor dumped to ' + train_pt)\n",
    "        \n",
    "    return reg\n"
   ]
  },
  {
   "cell_type": "markdown",
   "id": "9abbd39d-f99a-483c-89e3-259ac09ed7b6",
   "metadata": {},
   "source": [
    "### 4.2. Unit tester"
   ]
  },
  {
   "cell_type": "code",
   "execution_count": 29,
   "id": "10782e35-a725-4981-8d90-d135752c3185",
   "metadata": {},
   "outputs": [
    {
     "name": "stdout",
     "output_type": "stream",
     "text": [
      "Overwriting train_te.py\n"
     ]
    }
   ],
   "source": [
    "%%writefile train_te.py\n",
    "\n",
    "import pandas as pd\n",
    "from time import process_time as timer\n",
    "import matplotlib.pyplot as plt\n",
    "\n",
    "import init\n",
    "import prep\n",
    "import train\n",
    "import pred_te\n",
    "from importlib import reload\n",
    "\n",
    "def train_te() :\n",
    "\n",
    "    reload(init)\n",
    "    reload(prep)\n",
    "    reload(train)\n",
    "    reload(pred_te)\n",
    "\n",
    "    x, y = init.init()\n",
    "\n",
    "    tr_ind, e1_ind, e2_ind = prep.nai_splitter()\n",
    "\n",
    "    reg = train.train()\n",
    "\n",
    "    pred_te.printer(x, y, e1_ind, reg)\n",
    "    pred_te.printer(x, y, e2_ind, reg)"
   ]
  },
  {
   "cell_type": "markdown",
   "id": "fca4b6af-ccf5-498e-8ac8-954b39014ed1",
   "metadata": {},
   "source": [
    "### 4.3. Unit test"
   ]
  },
  {
   "cell_type": "code",
   "execution_count": 30,
   "id": "a65a5f7e-d381-4c35-aeb2-bd33a6069ac2",
   "metadata": {},
   "outputs": [
    {
     "name": "stdout",
     "output_type": "stream",
     "text": [
      "Loading ML database from ./tmp/xy_df.parquet\n",
      "ML database loaded in 0.01600745600000053 s\n",
      "Loading ML database from ./tmp/xy_df.parquet\n",
      "ML database loaded in 0.016521230000002163 s\n",
      "Cross validating by Grid Search\n",
      "Fitting 5 folds for each of 75 candidates, totalling 375 fits\n",
      "Cross validating by Grid Search successful in 3.4990467920000015 s\n",
      "Regressor dumped to ./tmp/reg.pkl\n",
      "Testing Gradient Boosting Regressor with .iloc[-8760, -1]\n",
      "Score: 0.36749072136507477\n",
      "R^2: 3.7667212041747784\n"
     ]
    },
    {
     "data": {
      "image/png": "[encoded data removed]",
      "text/plain": [
       "<matplotlib.figure.Figure at 0x7f344d3a1e48>"
      ]
     },
     "metadata": {
      "needs_background": "light"
     },
     "output_type": "display_data"
    },
    {
     "name": "stdout",
     "output_type": "stream",
     "text": [
      "Testing Gradient Boosting Regressor with .iloc[-61344, -52585]\n",
      "Score: 0.4231977079166701\n",
      "R^2: 3.73493903828401\n"
     ]
    },
    {
     "data": {
      "image/png": "[encoded data removed]",
      "text/plain": [
       "<matplotlib.figure.Figure at 0x7f3452f92748>"
      ]
     },
     "metadata": {
      "needs_background": "light"
     },
     "output_type": "display_data"
    }
   ],
   "source": [
    "import train_te\n",
    "from importlib import reload\n",
    "\n",
    "reload(train_te)\n",
    "\n",
    "train_te.train_te()"
   ]
  },
  {
   "cell_type": "markdown",
   "id": "688ac26a-c241-4f48-9052-c105688ef14c",
   "metadata": {},
   "source": [
    "## 5. Main"
   ]
  },
  {
   "cell_type": "code",
   "execution_count": null,
   "id": "44a491f6-13c2-479c-bf09-6f5a414b3b5d",
   "metadata": {},
   "outputs": [],
   "source": [
    "%%writefile main.py\n",
    "\n",
    "import sys\n",
    "\n",
    "import init\n",
    "import train\n",
    "\n",
    "def main() :\n",
    "    if len(sys.argv) == 1 or len(sys.argv) > 3 :\n",
    "        print('usage: python main.py input.csv [calls.csv]')\n",
    "    else :\n",
    "        wtr_new = init.weather_parser(sys.argv[1])\n",
    "        x_new = init.feature_parser(wtr_new)\n",
    "        reg = train.train()\n",
    "        y_pew = reg.predict(x_new)\n",
    "        \n",
    "        y_pew.to_csv('output.csv')\n",
    "        \n",
    "        if len(sys.argv) == 3 :\n",
    "            calls_new = init.calls_parser()\n",
    "            print('Score: ' + str(reg.score(x_new, y_new)))\n",
    "\n",
    "if __name__ == '__main__':\n",
    "    main()"
   ]
  },
  {
   "cell_type": "markdown",
   "id": "9dc564ac-d57b-4efe-ba10-041b42f9a469",
   "metadata": {},
   "source": [
    "### 5.1 Main tester"
   ]
  },
  {
   "cell_type": "code",
   "execution_count": null,
   "id": "6f0581a1-21c3-40c0-8bad-6d6af7f44023",
   "metadata": {},
   "outputs": [],
   "source": [
    "\n",
    "\n",
    "def data_gen() :\n",
    "\n",
    "def main_te() :"
   ]
  },
  {
   "cell_type": "markdown",
   "id": "d0e98812-e264-4888-aed9-95f88394e63d",
   "metadata": {},
   "source": [
    "### 5.2. Main test"
   ]
  },
  {
   "cell_type": "code",
   "execution_count": null,
   "id": "9a0103b0-3f9c-4ab1-8861-3cfff78f5bd1",
   "metadata": {},
   "outputs": [],
   "source": []
  }
 ],
 "metadata": {
  "kernelspec": {
   "display_name": "Python 3",
   "language": "python",
   "name": "python3"
  },
  "language_info": {
   "codemirror_mode": {
    "name": "ipython",
    "version": 3
   },
   "file_extension": ".py",
   "mimetype": "text/x-python",
   "name": "python",
   "nbconvert_exporter": "python",
   "pygments_lexer": "ipython3",
   "version": "3.6.9"
  }
 },
 "nbformat": 4,
 "nbformat_minor": 5
}
